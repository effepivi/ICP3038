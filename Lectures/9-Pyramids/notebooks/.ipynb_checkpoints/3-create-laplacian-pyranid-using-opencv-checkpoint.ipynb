{
 "cells": [
  {
   "cell_type": "markdown",
   "metadata": {},
   "source": [
    "# How to create a Laplacian pyramid"
   ]
  },
  {
   "cell_type": "markdown",
   "metadata": {},
   "source": [
    "## Compiler parameters"
   ]
  },
  {
   "cell_type": "markdown",
   "metadata": {},
   "source": [
    "Set my Jypyter environment for the use of OpenCV in a C++ notebook. You don't need this line when you write yur own C++ programs. I need it to set my interactive compiler ([Cling](https://root.cern/cling/)). For your own program, use CMake."
   ]
  },
  {
   "cell_type": "code",
   "execution_count": 1,
   "metadata": {},
   "outputs": [],
   "source": [
    "#include \"../../../includeLibraries.h\""
   ]
  },
  {
   "cell_type": "markdown",
   "metadata": {},
   "source": [
    "## Header inclusion for C++"
   ]
  },
  {
   "cell_type": "code",
   "execution_count": 2,
   "metadata": {},
   "outputs": [],
   "source": [
    "#include <iostream>\n",
    "#include <vector>\n",
    "#include <sstream>\n",
    "#include <string>\n",
    "#include <opencv2/opencv.hpp>"
   ]
  },
  {
   "cell_type": "markdown",
   "metadata": {},
   "source": [
    "## Add the namespaces"
   ]
  },
  {
   "cell_type": "code",
   "execution_count": 3,
   "metadata": {},
   "outputs": [],
   "source": [
    "using namespace std;"
   ]
  },
  {
   "cell_type": "code",
   "execution_count": 4,
   "metadata": {},
   "outputs": [],
   "source": [
    "using namespace cv;"
   ]
  },
  {
   "cell_type": "markdown",
   "metadata": {},
   "source": [
    "## Create a structure"
   ]
  },
  {
   "cell_type": "markdown",
   "metadata": {},
   "source": [
    "to store the pyramid."
   ]
  },
  {
   "cell_type": "code",
   "execution_count": 5,
   "metadata": {},
   "outputs": [],
   "source": [
    "vector<Mat> pyramid;"
   ]
  },
  {
   "cell_type": "markdown",
   "metadata": {},
   "source": [
    "## 1. Read the image from a file on the disk and return a new matrix"
   ]
  },
  {
   "cell_type": "markdown",
   "metadata": {},
   "source": [
    "![Original image](../level0.jpg)"
   ]
  },
  {
   "cell_type": "code",
   "execution_count": 6,
   "metadata": {},
   "outputs": [],
   "source": [
    "Mat original_image = imread(\"../level0.jpg\", IMREAD_COLOR);\n",
    "original_image.convertTo(original_image, CV_32FC1);"
   ]
  },
  {
   "cell_type": "markdown",
   "metadata": {},
   "source": [
    "## 2. Make sure its size is a power of two"
   ]
  },
  {
   "cell_type": "markdown",
   "metadata": {},
   "source": [
    "This is image is "
   ]
  },
  {
   "cell_type": "code",
   "execution_count": 7,
   "metadata": {},
   "outputs": [
    {
     "name": "stdout",
     "output_type": "stream",
     "text": [
      "1024x695 pixels\n"
     ]
    }
   ],
   "source": [
    "cout << original_image.cols << \"x\" << original_image.rows << \" pixels\" << endl;"
   ]
  },
  {
   "cell_type": "markdown",
   "metadata": {},
   "source": [
    "- 1024 is a  power of two.\n",
    "- 695 is not."
   ]
  },
  {
   "cell_type": "markdown",
   "metadata": {},
   "source": [
    "## 3. I'll mirror it to make it a power of two."
   ]
  },
  {
   "cell_type": "code",
   "execution_count": 8,
   "metadata": {},
   "outputs": [],
   "source": [
    "Mat non_blurred;\n",
    "copyMakeBorder( original_image, non_blurred, 0, 1024 - original_image.rows, 0, 0, BORDER_REFLECT);"
   ]
  },
  {
   "cell_type": "markdown",
   "metadata": {},
   "source": [
    "## 4. Blur the image"
   ]
  },
  {
   "cell_type": "code",
   "execution_count": 9,
   "metadata": {},
   "outputs": [],
   "source": [
    "Mat blurred;\n",
    "GaussianBlur(non_blurred, blurred, Size(3, 3), 0);"
   ]
  },
  {
   "cell_type": "markdown",
   "metadata": {},
   "source": [
    "## 5. Pixelwise subtraction"
   ]
  },
  {
   "cell_type": "code",
   "execution_count": 10,
   "metadata": {},
   "outputs": [],
   "source": [
    "Mat level1 = non_blurred - blurred;"
   ]
  },
  {
   "cell_type": "markdown",
   "metadata": {},
   "source": [
    "## 6. Store this image in the pyramid"
   ]
  },
  {
   "cell_type": "code",
   "execution_count": 11,
   "metadata": {},
   "outputs": [],
   "source": [
    "pyramid.push_back(level1);\n",
    "\n",
    "Mat temp;\n",
    "cv::normalize(pyramid.back(), temp, 0, 1, NORM_MINMAX, CV_32FC3);\n",
    "imwrite(\"../level1-laplacian.png\", 255 * temp);"
   ]
  },
  {
   "cell_type": "markdown",
   "metadata": {},
   "source": [
    "![Level1](../level1-laplacian.png)"
   ]
  },
  {
   "cell_type": "markdown",
   "metadata": {},
   "source": [
    "## 7. Reduce its size by half\n",
    "\n",
    "(downsampling, i.e. no interpolation)"
   ]
  },
  {
   "cell_type": "code",
   "execution_count": 12,
   "metadata": {},
   "outputs": [],
   "source": [
    "resize(blurred, non_blurred, Size(), 0.5, 0.5, INTER_NEAREST);"
   ]
  },
  {
   "cell_type": "markdown",
   "metadata": {},
   "source": [
    "## 8. Iterate"
   ]
  },
  {
   "cell_type": "markdown",
   "metadata": {},
   "source": [
    "Blur the image"
   ]
  },
  {
   "cell_type": "code",
   "execution_count": 13,
   "metadata": {},
   "outputs": [],
   "source": [
    "GaussianBlur(non_blurred, blurred, Size(3, 3), 0);"
   ]
  },
  {
   "cell_type": "markdown",
   "metadata": {},
   "source": [
    "Pixelwise subtraction"
   ]
  },
  {
   "cell_type": "code",
   "execution_count": 14,
   "metadata": {},
   "outputs": [],
   "source": [
    "Mat level2 = non_blurred - blurred;"
   ]
  },
  {
   "cell_type": "markdown",
   "metadata": {},
   "source": [
    "Store this image in the pyramid"
   ]
  },
  {
   "cell_type": "code",
   "execution_count": 15,
   "metadata": {},
   "outputs": [],
   "source": [
    "pyramid.push_back(level2);\n",
    "\n",
    "cv::normalize(pyramid.back(), temp, 0, 1, NORM_MINMAX, CV_32FC3);\n",
    "imwrite(\"../level2-laplacian.png\", 255 * temp);"
   ]
  },
  {
   "cell_type": "markdown",
   "metadata": {},
   "source": [
    "Reduce its size by half (downsampling, i.e. no interpolation)"
   ]
  },
  {
   "cell_type": "code",
   "execution_count": 16,
   "metadata": {},
   "outputs": [],
   "source": [
    "resize(blurred, non_blurred, Size(), 0.5, 0.5, INTER_NEAREST);"
   ]
  },
  {
   "cell_type": "markdown",
   "metadata": {},
   "source": [
    "![Level 2](../level2-laplacian.png)"
   ]
  },
  {
   "cell_type": "markdown",
   "metadata": {},
   "source": [
    "## 9. Iterate one more time"
   ]
  },
  {
   "cell_type": "code",
   "execution_count": 17,
   "metadata": {},
   "outputs": [],
   "source": [
    "GaussianBlur(non_blurred, blurred, Size(3, 3), 0);"
   ]
  },
  {
   "cell_type": "code",
   "execution_count": 18,
   "metadata": {},
   "outputs": [],
   "source": [
    "Mat level3 = non_blurred - blurred;"
   ]
  },
  {
   "cell_type": "code",
   "execution_count": 19,
   "metadata": {},
   "outputs": [],
   "source": [
    "pyramid.push_back(level3);\n",
    "\n",
    "cv::normalize(pyramid.back(), temp, 0, 1, NORM_MINMAX, CV_32FC3);\n",
    "imwrite(\"../level3-laplacian.png\", 255 * temp);"
   ]
  },
  {
   "cell_type": "code",
   "execution_count": 20,
   "metadata": {},
   "outputs": [],
   "source": [
    "resize(blurred, non_blurred, Size(), 0.5, 0.5, INTER_NEAREST);"
   ]
  },
  {
   "cell_type": "markdown",
   "metadata": {},
   "source": [
    "## 10. I got enough, stop here"
   ]
  },
  {
   "cell_type": "code",
   "execution_count": 21,
   "metadata": {},
   "outputs": [],
   "source": [
    "pyramid.push_back(non_blurred);\n",
    "\n",
    "cv::normalize(pyramid.back(), temp, 0, 1, NORM_MINMAX, CV_32FC3);\n",
    "imwrite(\"../level4-laplacian.png\", 255 * temp);"
   ]
  },
  {
   "cell_type": "markdown",
   "metadata": {},
   "source": [
    "![Level 4](../level4-laplacian.png)"
   ]
  },
  {
   "cell_type": "markdown",
   "metadata": {},
   "source": [
    "## All the levels"
   ]
  },
  {
   "cell_type": "markdown",
   "metadata": {},
   "source": [
    "### Level 1\n",
    "![Level 1](../level1-laplacian.png)\n",
    "\n",
    "### Level 2\n",
    "![Level 2](../level2-laplacian.png)\n",
    "\n",
    "### Level 3\n",
    "![Level 3](../level3-laplacian.png)\n",
    "\n",
    "### Level 4\n",
    "![Level 4](../level4-laplacian.png)"
   ]
  },
  {
   "cell_type": "markdown",
   "metadata": {},
   "source": [
    "## Upsample all the images"
   ]
  },
  {
   "cell_type": "markdown",
   "metadata": {},
   "source": [
    "For comparing the levels"
   ]
  },
  {
   "cell_type": "code",
   "execution_count": 22,
   "metadata": {},
   "outputs": [],
   "source": [
    "for (int i = 1; i < pyramid.size(); i++)\n",
    "{\n",
    "    Mat temp = pyramid[i];\n",
    "    resize(temp, temp, Size(pyramid[0].cols, pyramid[0].rows), 0, 0, INTER_NEAREST);\n",
    "    \n",
    "    stringstream file_name;\n",
    "\n",
    "    cv::normalize(temp, temp, 0, 1, NORM_MINMAX, CV_32FC3);\n",
    "\n",
    "    file_name << \"../level\" << i + 1 << \"_upscaled-laplacian.png\";\n",
    "    imwrite(file_name.str(), 255 * temp);\n",
    "}"
   ]
  },
  {
   "cell_type": "code",
   "execution_count": null,
   "metadata": {},
   "outputs": [],
   "source": []
  }
 ],
 "metadata": {
  "kernelspec": {
   "display_name": "C++14",
   "language": "C++14",
   "name": "xcpp14"
  },
  "language_info": {
   "codemirror_mode": "text/x-c++src",
   "file_extension": ".cpp",
   "mimetype": "text/x-c++src",
   "name": "c++",
   "version": "14"
  }
 },
 "nbformat": 4,
 "nbformat_minor": 4
}
