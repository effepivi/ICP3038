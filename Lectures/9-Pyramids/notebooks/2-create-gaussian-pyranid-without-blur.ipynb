{
 "cells": [
  {
   "cell_type": "markdown",
   "metadata": {},
   "source": [
    "# How to create a Gaussin pyramid"
   ]
  },
  {
   "cell_type": "markdown",
   "metadata": {},
   "source": [
    "**if you forget the blur**"
   ]
  },
  {
   "cell_type": "markdown",
   "metadata": {},
   "source": [
    "## Pseudo code"
   ]
  },
  {
   "cell_type": "markdown",
   "metadata": {},
   "source": [
    "1. Take an image\n",
    "2. Make sure its size is a power of two\n",
    "3. If it is not the case, make sure that it becomes the case\n",
    "4. Store this image in the pyramid.\n",
    "6. Reduce its size by half (downsampling, i.e. no interpolation)\n",
    "7. Store this image in the pyramid.\n",
    "8. Repeat Steps 6, and 7."
   ]
  },
  {
   "cell_type": "markdown",
   "metadata": {},
   "source": [
    "## Compiler parameters"
   ]
  },
  {
   "cell_type": "markdown",
   "metadata": {},
   "source": [
    "Set my Jypyter environment for the use of OpenCV in a C++ notebook. You don't need this line when you write yur own C++ programs. I need it to set my interactive compiler ([Cling](https://root.cern/cling/)). For your own program, use CMake."
   ]
  },
  {
   "cell_type": "code",
   "execution_count": 1,
   "metadata": {},
   "outputs": [],
   "source": [
    "#include \"../../../includeLibraries.h\""
   ]
  },
  {
   "cell_type": "markdown",
   "metadata": {},
   "source": [
    "## Header inclusion for C++"
   ]
  },
  {
   "cell_type": "code",
   "execution_count": 2,
   "metadata": {},
   "outputs": [],
   "source": [
    "#include <iostream>\n",
    "#include <vector>\n",
    "#include <sstream>\n",
    "#include <opencv2/opencv.hpp>"
   ]
  },
  {
   "cell_type": "markdown",
   "metadata": {},
   "source": [
    "## Add the namespaces"
   ]
  },
  {
   "cell_type": "code",
   "execution_count": 3,
   "metadata": {},
   "outputs": [],
   "source": [
    "using namespace std;"
   ]
  },
  {
   "cell_type": "code",
   "execution_count": 4,
   "metadata": {},
   "outputs": [],
   "source": [
    "using namespace cv;"
   ]
  },
  {
   "cell_type": "markdown",
   "metadata": {},
   "source": [
    "## Create a structure"
   ]
  },
  {
   "cell_type": "markdown",
   "metadata": {},
   "source": [
    "to store the pyramid."
   ]
  },
  {
   "cell_type": "code",
   "execution_count": 5,
   "metadata": {},
   "outputs": [],
   "source": [
    "vector<Mat> pyramid;"
   ]
  },
  {
   "cell_type": "markdown",
   "metadata": {},
   "source": [
    "## 1. Read the image from a file on the disk and return a new matrix"
   ]
  },
  {
   "cell_type": "markdown",
   "metadata": {},
   "source": [
    "![Original image](../level0-bis.png)"
   ]
  },
  {
   "cell_type": "code",
   "execution_count": 6,
   "metadata": {},
   "outputs": [],
   "source": [
    "Mat original_image = imread(\"../level0-bis.png\");"
   ]
  },
  {
   "cell_type": "markdown",
   "metadata": {},
   "source": [
    "## 2. Make sure its size is a power of two"
   ]
  },
  {
   "cell_type": "markdown",
   "metadata": {},
   "source": [
    "This is image is "
   ]
  },
  {
   "cell_type": "code",
   "execution_count": 7,
   "metadata": {},
   "outputs": [
    {
     "name": "stdout",
     "output_type": "stream",
     "text": [
      "512x512 pixels\n"
     ]
    }
   ],
   "source": [
    "cout << original_image.cols << \"x\" << original_image.rows << \" pixels\" << endl;"
   ]
  },
  {
   "cell_type": "markdown",
   "metadata": {},
   "source": [
    "## 3. If it is not the case, make sure that it becomes the case"
   ]
  },
  {
   "cell_type": "markdown",
   "metadata": {},
   "source": [
    "- 512 is a  power of two.\n",
    "- 512 is definitely a  power of two.\n",
    "\n",
    "So nothing to do."
   ]
  },
  {
   "cell_type": "code",
   "execution_count": 8,
   "metadata": {},
   "outputs": [],
   "source": [
    "Mat level1 = original_image;"
   ]
  },
  {
   "cell_type": "markdown",
   "metadata": {},
   "source": [
    "## 4. Store this image in the pyramid"
   ]
  },
  {
   "cell_type": "code",
   "execution_count": 9,
   "metadata": {},
   "outputs": [],
   "source": [
    "pyramid.push_back(level1);\n",
    "imwrite(\"../level1-bis.png\", level1);"
   ]
  },
  {
   "cell_type": "markdown",
   "metadata": {},
   "source": [
    "![Padded](../level1-bis.png)"
   ]
  },
  {
   "cell_type": "markdown",
   "metadata": {},
   "source": [
    "## 6. Reduce its size by half\n",
    "\n",
    "(downsampling, i.e. no interpolation)"
   ]
  },
  {
   "cell_type": "code",
   "execution_count": 10,
   "metadata": {},
   "outputs": [],
   "source": [
    "Mat level2;\n",
    "resize(level1, level2, Size(), 0.5, 0.5, INTER_NEAREST);"
   ]
  },
  {
   "cell_type": "markdown",
   "metadata": {},
   "source": [
    "## 7. Store this image in the pyramid"
   ]
  },
  {
   "cell_type": "code",
   "execution_count": 11,
   "metadata": {},
   "outputs": [],
   "source": [
    "pyramid.push_back(level2);\n",
    "imwrite(\"../level2-bis.png\", level2);"
   ]
  },
  {
   "cell_type": "markdown",
   "metadata": {},
   "source": [
    "![Level 2](../level2-bis.png)"
   ]
  },
  {
   "cell_type": "markdown",
   "metadata": {},
   "source": [
    "## 8. Iterate"
   ]
  },
  {
   "cell_type": "markdown",
   "metadata": {},
   "source": [
    "Reduce its size by half (downsampling, i.e. no interpolation)"
   ]
  },
  {
   "cell_type": "code",
   "execution_count": 12,
   "metadata": {},
   "outputs": [],
   "source": [
    "Mat level3;\n",
    "resize(level2, level3, Size(), 0.5, 0.5, INTER_NEAREST);"
   ]
  },
  {
   "cell_type": "markdown",
   "metadata": {},
   "source": [
    "Store this image in the pyramid"
   ]
  },
  {
   "cell_type": "code",
   "execution_count": 13,
   "metadata": {},
   "outputs": [],
   "source": [
    "pyramid.push_back(level3);\n",
    "imwrite(\"../level3-bis.png\", level3);"
   ]
  },
  {
   "cell_type": "markdown",
   "metadata": {},
   "source": [
    "![Level 3](../level3-bis.png)"
   ]
  },
  {
   "cell_type": "markdown",
   "metadata": {},
   "source": [
    "## 9. Iterate one more time"
   ]
  },
  {
   "cell_type": "code",
   "execution_count": 14,
   "metadata": {},
   "outputs": [],
   "source": [
    "Mat level4;\n",
    "resize(level3, level4, Size(), 0.5, 0.5, INTER_NEAREST);"
   ]
  },
  {
   "cell_type": "code",
   "execution_count": 15,
   "metadata": {},
   "outputs": [],
   "source": [
    "pyramid.push_back(level4);\n",
    "imwrite(\"../level4-bis.png\", level4);"
   ]
  },
  {
   "cell_type": "markdown",
   "metadata": {},
   "source": [
    "![Level 4](../level4-bis.png)"
   ]
  },
  {
   "cell_type": "markdown",
   "metadata": {},
   "source": [
    "## All the levels"
   ]
  },
  {
   "cell_type": "markdown",
   "metadata": {},
   "source": [
    "### Level 1\n",
    "![Level 1](../level1-bis.png)\n",
    "\n",
    "### Level 2\n",
    "![Level 2](../level2-bis.png)\n",
    "\n",
    "### Level 3\n",
    "![Level 3](../level3-bis.png)\n",
    "\n",
    "### Level 4\n",
    "![Level 4](../level4-bis.png)"
   ]
  },
  {
   "cell_type": "markdown",
   "metadata": {},
   "source": [
    "## More iterations?"
   ]
  },
  {
   "cell_type": "markdown",
   "metadata": {},
   "source": [
    "3 more iterations for the sake of it."
   ]
  },
  {
   "cell_type": "code",
   "execution_count": 16,
   "metadata": {},
   "outputs": [],
   "source": [
    "Mat level5;\n",
    "resize(level4, level5, Size(), 0.5, 0.5, INTER_NEAREST);\n",
    "pyramid.push_back(level5);\n",
    "imwrite(\"../level5-bis.png\", level5);"
   ]
  },
  {
   "cell_type": "code",
   "execution_count": 17,
   "metadata": {},
   "outputs": [],
   "source": [
    "Mat level6;\n",
    "resize(level5, level6, Size(), 0.5, 0.5, INTER_NEAREST);\n",
    "pyramid.push_back(level6);\n",
    "imwrite(\"../level6-bis.png\", level6);"
   ]
  },
  {
   "cell_type": "code",
   "execution_count": 18,
   "metadata": {},
   "outputs": [],
   "source": [
    "Mat level7;\n",
    "resize(level6, level7, Size(), 0.5, 0.5, INTER_NEAREST);\n",
    "pyramid.push_back(level7);\n",
    "imwrite(\"../level7-bis.png\", level7);"
   ]
  },
  {
   "cell_type": "markdown",
   "metadata": {},
   "source": [
    "## Upsample all the images"
   ]
  },
  {
   "cell_type": "markdown",
   "metadata": {},
   "source": [
    "For comparing the levels"
   ]
  },
  {
   "cell_type": "code",
   "execution_count": 19,
   "metadata": {},
   "outputs": [],
   "source": [
    "for (int i = 1; i < pyramid.size(); i++)\n",
    "{\n",
    "    Mat temp = pyramid[i];\n",
    "    resize(temp, temp, Size(pyramid[0].cols, pyramid[0].rows), 0, 0, INTER_NEAREST);\n",
    "    \n",
    "    stringstream file_name;\n",
    "    file_name << \"../level\" << i + 1 << \"-bis_upscaled.png\";\n",
    "    imwrite(file_name.str(), temp);\n",
    "}"
   ]
  },
  {
   "cell_type": "code",
   "execution_count": null,
   "metadata": {},
   "outputs": [],
   "source": []
  }
 ],
 "metadata": {
  "kernelspec": {
   "display_name": "C++14",
   "language": "C++14",
   "name": "xcpp14"
  },
  "language_info": {
   "codemirror_mode": "text/x-c++src",
   "file_extension": ".cpp",
   "mimetype": "text/x-c++src",
   "name": "c++",
   "version": "14"
  }
 },
 "nbformat": 4,
 "nbformat_minor": 4
}
