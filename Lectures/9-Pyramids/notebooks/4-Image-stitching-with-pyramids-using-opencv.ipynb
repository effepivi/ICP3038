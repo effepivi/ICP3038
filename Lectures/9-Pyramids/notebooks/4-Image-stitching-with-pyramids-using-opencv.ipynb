{
 "cells": [
  {
   "cell_type": "markdown",
   "metadata": {},
   "source": [
    "# How to stitch images with Laplacian pyramids"
   ]
  },
  {
   "cell_type": "markdown",
   "metadata": {},
   "source": [
    "## Compiler parameters"
   ]
  },
  {
   "cell_type": "markdown",
   "metadata": {},
   "source": [
    "Set my Jypyter environment for the use of OpenCV in a C++ notebook. You don't need this line when you write yur own C++ programs. I need it to set my interactive compiler ([Cling](https://root.cern/cling/)). For your own program, use CMake."
   ]
  },
  {
   "cell_type": "code",
   "execution_count": 1,
   "metadata": {},
   "outputs": [],
   "source": [
    "#include \"../../../includeLibraries.h\""
   ]
  },
  {
   "cell_type": "markdown",
   "metadata": {},
   "source": [
    "## Header inclusion for C++"
   ]
  },
  {
   "cell_type": "code",
   "execution_count": 2,
   "metadata": {},
   "outputs": [],
   "source": [
    "#include <iostream>\n",
    "#include <vector>\n",
    "#include <stdexcept>\n",
    "#include <sstream>\n",
    "#include <string>\n",
    "#include <opencv2/opencv.hpp>"
   ]
  },
  {
   "cell_type": "markdown",
   "metadata": {},
   "source": [
    "## Add the namespaces"
   ]
  },
  {
   "cell_type": "code",
   "execution_count": 3,
   "metadata": {},
   "outputs": [],
   "source": [
    "using namespace std;"
   ]
  },
  {
   "cell_type": "code",
   "execution_count": 4,
   "metadata": {},
   "outputs": [],
   "source": [
    "using namespace cv;"
   ]
  },
  {
   "cell_type": "markdown",
   "metadata": {},
   "source": [
    "## Create a structure"
   ]
  },
  {
   "cell_type": "markdown",
   "metadata": {},
   "source": [
    "to store the pyramid."
   ]
  },
  {
   "cell_type": "code",
   "execution_count": 5,
   "metadata": {},
   "outputs": [],
   "source": [
    "vector<Mat> p_laplacian_pyramid;"
   ]
  },
  {
   "cell_type": "markdown",
   "metadata": {},
   "source": [
    "## Function to create a Gaussian pyramid"
   ]
  },
  {
   "cell_type": "code",
   "execution_count": 6,
   "metadata": {},
   "outputs": [],
   "source": [
    "//-------------------------------------------------------\n",
    "void createGaussianPyramid(const Mat& anOriginalImage,\n",
    "                           vector<Mat>& aGaussianPyramid,\n",
    "                           size_t aNumberOfLevels)\n",
    "//-------------------------------------------------------\n",
    "{\n",
    "    // Make sure the pyramid is empty\n",
    "    aGaussianPyramid.clear();\n",
    "\n",
    "    // Add the original image\n",
    "    Mat source = anOriginalImage;\n",
    "    aGaussianPyramid.push_back(source);\n",
    "\n",
    "    // Add the other sizes\n",
    "    for (unsigned int i(0); i < aNumberOfLevels - 1; ++i)\n",
    "    {\n",
    "        // Compute the new image\n",
    "        Mat dst;\n",
    "        pyrDown(source, dst, Size(source.cols / 2, source.rows / 2));\n",
    "\n",
    "        // Store the new image in the pyramid\n",
    "        aGaussianPyramid.push_back(dst);\n",
    "\n",
    "        // The new image becomes the new source\n",
    "        source = dst;\n",
    "    }\n",
    "}\n"
   ]
  },
  {
   "cell_type": "markdown",
   "metadata": {},
   "source": [
    "## Function to create a Laplacian pyramid from Gaussian pyramid"
   ]
  },
  {
   "cell_type": "code",
   "execution_count": 7,
   "metadata": {},
   "outputs": [],
   "source": [
    "//--------------------------------------------------------------\n",
    "void createLaplacianPyramid(const vector<Mat>& aGaussianPyramid,\n",
    "                            vector<Mat>& aLaplacianPyramid)\n",
    "//--------------------------------------------------------------\n",
    "{\n",
    "    // Create an empty pyramid\n",
    "    aLaplacianPyramid.clear();\n",
    "\n",
    "    // Last image ID to have been processed\n",
    "    unsigned int last_id(aGaussianPyramid.size());\n",
    "\n",
    "    // Add the original image\n",
    "    Mat source = aGaussianPyramid[--last_id];\n",
    "    aLaplacianPyramid.push_back(source);\n",
    "\n",
    "    for (unsigned int i = 0; i < aGaussianPyramid.size() - 1; ++i)\n",
    "    {\n",
    "        Mat dst;\n",
    "        pyrUp(source, dst, Size(source.cols*2, source.rows*2));\n",
    "\n",
    "        // Get the new source from the Gaussian pyramid\n",
    "        source = aGaussianPyramid[--last_id];\n",
    "\n",
    "        // Store the new image in the pyramid\n",
    "        aLaplacianPyramid.push_back(source - dst);\n",
    "    }\n",
    "    }"
   ]
  },
  {
   "cell_type": "markdown",
   "metadata": {},
   "source": [
    "## Synthesis"
   ]
  },
  {
   "cell_type": "code",
   "execution_count": 8,
   "metadata": {},
   "outputs": [],
   "source": [
    "Mat reconstruct(const vector<Mat>& aLaplacianPyramid, int aLevel)\n",
    "{\n",
    "    Mat reconstruction;\n",
    "\n",
    "    if (aLaplacianPyramid.size())\n",
    "    {\n",
    "        for (int i = 0; i < aLaplacianPyramid.size() - aLevel; ++i)\n",
    "        {\n",
    "            if (i == 0)\n",
    "            {\n",
    "                reconstruction = aLaplacianPyramid[i];\n",
    "            }\n",
    "            else\n",
    "            {\n",
    "                Mat dst;\n",
    "                pyrUp(reconstruction, dst, Size(reconstruction.cols * 2, reconstruction.rows * 2));\n",
    "\n",
    "                reconstruction = dst + aLaplacianPyramid[i];\n",
    "            }\n",
    "        }\n",
    "    }\n",
    "\n",
    "    return reconstruction;\n",
    "}"
   ]
  },
  {
   "cell_type": "markdown",
   "metadata": {},
   "source": [
    "## A function to visualise pyramids"
   ]
  },
  {
   "cell_type": "code",
   "execution_count": 9,
   "metadata": {},
   "outputs": [],
   "source": [
    "Mat displayPyramid(const std::vector<Mat>& aPyramid)\n",
    "{\n",
    "    cv::Scalar background_colour(51, 34, 184, 255);\n",
    "    cv::Mat window_data(256, 256, CV_8UC3, background_colour);\n",
    "\n",
    "    if (aPyramid.size())\n",
    "    {\n",
    "        int EDGE = 2;\n",
    "        bool ascending(true);\n",
    "\n",
    "        Mat tmp;\n",
    "\n",
    "        if (aPyramid.front().rows > aPyramid.back().rows)\n",
    "        {\n",
    "            tmp = aPyramid.front();\n",
    "            ascending = true;\n",
    "        }\n",
    "        else\n",
    "        {\n",
    "            tmp = aPyramid.back();\n",
    "            ascending = false;\n",
    "        }\n",
    "\n",
    "        window_data = Mat(tmp.rows * 1.5 + EDGE * 2.0,\n",
    "                          tmp.cols  + EDGE * (aPyramid.size() + 1),\n",
    "                          CV_8UC3, \n",
    "                          background_colour);\n",
    "        \n",
    "        int x_offset(EDGE);\n",
    "        int y_offset(EDGE);\n",
    "\n",
    "        for (unsigned int i = 0; i < aPyramid.size(); ++i)\n",
    "        {\n",
    "            if (ascending)\n",
    "            {\n",
    "                tmp = aPyramid[i];\n",
    "            }\n",
    "            else\n",
    "            {\n",
    "                tmp = aPyramid[aPyramid.size() - 1 - i];\n",
    "            }\n",
    "\n",
    "            normalize(tmp, tmp, 0, 255, NORM_MINMAX, CV_8UC3);\n",
    "            Mat targetROI = window_data(Rect(x_offset, y_offset, tmp.cols, tmp.rows));\n",
    "\n",
    "            tmp.copyTo(targetROI);\n",
    "\n",
    "            if (i == 0)\n",
    "            {\n",
    "                y_offset += tmp.rows + EDGE;\n",
    "            }\n",
    "            else\n",
    "            {\n",
    "                x_offset += tmp.cols + EDGE;\n",
    "            }\n",
    "        }\n",
    "    }\n",
    "\n",
    "    return window_data;\n",
    "}"
   ]
  },
  {
   "cell_type": "markdown",
   "metadata": {},
   "source": [
    "## Read the images"
   ]
  },
  {
   "cell_type": "markdown",
   "metadata": {},
   "source": [
    "![Orange](../orange.jpg)\n",
    "![Apple](../apple.jpg)"
   ]
  },
  {
   "cell_type": "code",
   "execution_count": 10,
   "metadata": {},
   "outputs": [],
   "source": [
    "/// Test image - Make sure it s divisible by 2^{n}\n",
    "Mat orange = imread(\"../orange.jpg\", IMREAD_COLOR);\n",
    "if (!orange.data)\n",
    "{\n",
    "    throw \" No data! -- Exiting the program \";\n",
    "}"
   ]
  },
  {
   "cell_type": "code",
   "execution_count": 11,
   "metadata": {},
   "outputs": [],
   "source": [
    "/// Test image - Make sure it s divisible by 2^{n}\n",
    "Mat apple = imread(\"../apple.jpg\", IMREAD_COLOR);\n",
    "if (!apple.data)\n",
    "{\n",
    "    throw \"No data! -- Exiting the program\";\n",
    "}"
   ]
  },
  {
   "cell_type": "markdown",
   "metadata": {},
   "source": [
    "Convert the data to floating-point numbers. It's important for the pixel-wise subtraction."
   ]
  },
  {
   "cell_type": "code",
   "execution_count": 12,
   "metadata": {},
   "outputs": [],
   "source": [
    "apple.convertTo(apple, CV_32FC3);\n",
    "orange.convertTo(orange, CV_32FC3);"
   ]
  },
  {
   "cell_type": "markdown",
   "metadata": {},
   "source": [
    "## Check the image sizes"
   ]
  },
  {
   "cell_type": "markdown",
   "metadata": {},
   "source": [
    "Same size? The two images MUST have the same size."
   ]
  },
  {
   "cell_type": "code",
   "execution_count": 13,
   "metadata": {},
   "outputs": [],
   "source": [
    "if (apple.rows != orange.rows || apple.cols != orange.cols)\n",
    "{\n",
    "    throw \"The two images don't have the same size -- Exiting the program\";\n",
    "}"
   ]
  },
  {
   "cell_type": "markdown",
   "metadata": {},
   "source": [
    "Power of two? We create a function that returns \n",
    "\n",
    "1. the input if the input is a power of two, or \n",
    "2. the next power of two. \n",
    "\n",
    "For example:\n",
    "\n",
    "- `powerOfTwo(0)` returns 1;\n",
    "- `powerOfTwo(1)` returns 1;\n",
    "- `powerOfTwo(2)` returns 2;\n",
    "- `powerOfTwo(3)` returns 4; and\n",
    "- `powerOfTwo(4)` returns 4."
   ]
  },
  {
   "cell_type": "code",
   "execution_count": 14,
   "metadata": {},
   "outputs": [],
   "source": [
    "size_t powerOfTwo(size_t aValue)\n",
    "{\n",
    "    size_t i = 1;\n",
    "    \n",
    "    while (i < aValue) i *= 2;\n",
    "    \n",
    "    return i;\n",
    "}"
   ]
  },
  {
   "cell_type": "markdown",
   "metadata": {},
   "source": [
    "Check the new function"
   ]
  },
  {
   "cell_type": "code",
   "execution_count": 15,
   "metadata": {},
   "outputs": [
    {
     "name": "stdout",
     "output_type": "stream",
     "text": [
      "0\t1\n",
      "1\t1\n",
      "2\t2\n",
      "3\t4\n",
      "4\t4\n",
      "5\t8\n",
      "6\t8\n",
      "7\t8\n",
      "8\t8\n",
      "9\t16\n",
      "10\t16\n",
      "11\t16\n",
      "12\t16\n",
      "13\t16\n",
      "14\t16\n",
      "15\t16\n",
      "16\t16\n",
      "17\t32\n"
     ]
    }
   ],
   "source": [
    "for (size_t i = 0; i < 18 ; ++i)\n",
    "    cout << i << \"\\t\" << powerOfTwo(i) << endl;"
   ]
  },
  {
   "cell_type": "markdown",
   "metadata": {},
   "source": [
    "It seems to work fine."
   ]
  },
  {
   "cell_type": "markdown",
   "metadata": {},
   "source": [
    "Get the image size as a power of two"
   ]
  },
  {
   "cell_type": "code",
   "execution_count": 16,
   "metadata": {},
   "outputs": [],
   "source": [
    "size_t width = powerOfTwo(apple.cols);\n",
    "size_t height = powerOfTwo(apple.rows);"
   ]
  },
  {
   "cell_type": "markdown",
   "metadata": {},
   "source": [
    "The size isn't valid"
   ]
  },
  {
   "cell_type": "code",
   "execution_count": 17,
   "metadata": {},
   "outputs": [],
   "source": [
    "if (width != apple.cols || height != apple.rows)\n",
    "{\n",
    "    throw \"The image size must be a power of two. -- Exiting the program\";\n",
    "}"
   ]
  },
  {
   "cell_type": "markdown",
   "metadata": {},
   "source": [
    "## Create the Gaussian pyramids"
   ]
  },
  {
   "cell_type": "code",
   "execution_count": 18,
   "metadata": {},
   "outputs": [],
   "source": [
    "size_t levels = 8;\n",
    "\n",
    "vector<Mat> apple_gaussian_pyramid;\n",
    "vector<Mat> orange_gaussian_pyramid;\n",
    "\n",
    "createGaussianPyramid(apple, apple_gaussian_pyramid, levels);\n",
    "createGaussianPyramid(orange, orange_gaussian_pyramid, levels);"
   ]
  },
  {
   "cell_type": "code",
   "execution_count": 19,
   "metadata": {},
   "outputs": [],
   "source": [
    "Mat apple_gaussian_pyramid_vis = displayPyramid(apple_gaussian_pyramid);\n",
    "Mat orange_gaussian_pyramid_vis = displayPyramid(orange_gaussian_pyramid);\n",
    "\n",
    "imwrite(\"../apple_gaussian_pyramid.png\", apple_gaussian_pyramid_vis);\n",
    "imwrite(\"../orange_gaussian_pyramid.png\", orange_gaussian_pyramid_vis);"
   ]
  },
  {
   "cell_type": "markdown",
   "metadata": {},
   "source": [
    "![Gaussian pyramid of the apple with 7 levels](../apple_gaussian_pyramid.png)\n",
    "![Gaussian pyramid of the orange with 7 levels](../orange_gaussian_pyramid.png)"
   ]
  },
  {
   "cell_type": "markdown",
   "metadata": {},
   "source": [
    "## Create the Laplacian pyramid"
   ]
  },
  {
   "cell_type": "code",
   "execution_count": 20,
   "metadata": {},
   "outputs": [],
   "source": [
    "vector<Mat> apple_laplacian_pyramid;\n",
    "vector<Mat> orange_laplacian_pyramid;\n",
    "\n",
    "createLaplacianPyramid(apple_gaussian_pyramid, apple_laplacian_pyramid);\n",
    "createLaplacianPyramid(orange_gaussian_pyramid, orange_laplacian_pyramid);"
   ]
  },
  {
   "cell_type": "code",
   "execution_count": 21,
   "metadata": {},
   "outputs": [],
   "source": [
    "Mat apple_laplacian_pyramid_vis = displayPyramid(apple_laplacian_pyramid);\n",
    "Mat orange_laplacian_pyramid_vis = displayPyramid(orange_laplacian_pyramid);\n",
    "\n",
    "imwrite(\"../apple_laplacian_pyramid.png\", apple_laplacian_pyramid_vis);\n",
    "imwrite(\"../orange_laplacian_pyramid.png\", orange_laplacian_pyramid_vis);"
   ]
  },
  {
   "cell_type": "markdown",
   "metadata": {},
   "source": [
    "![Laplacian pyramid of the apple with 7 levels](../apple_laplacian_pyramid.png)\n",
    "![Laplacian pyramid of the orange with 7 levels](../orange_laplacian_pyramid.png)"
   ]
  },
  {
   "cell_type": "markdown",
   "metadata": {},
   "source": [
    "## Test the synthesis"
   ]
  },
  {
   "cell_type": "code",
   "execution_count": 22,
   "metadata": {},
   "outputs": [],
   "source": [
    "for (size_t i = 0; i < levels; ++i)\n",
    "{\n",
    "    Mat reconstruction = reconstruct(apple_laplacian_pyramid, i);\n",
    "    reconstruction.convertTo(reconstruction, CV_8UC3);\n",
    "    \n",
    "    stringstream file_name;\n",
    "    file_name << \"../apple-synthesis\" << i + 1 << \".png\";\n",
    "    imwrite(file_name.str(), reconstruction);\n",
    "}"
   ]
  },
  {
   "cell_type": "markdown",
   "metadata": {},
   "source": [
    "## Swap the two halves"
   ]
  },
  {
   "cell_type": "markdown",
   "metadata": {},
   "source": [
    "Below is a procedure to swap the left half of two images. The images must have the same size."
   ]
  },
  {
   "cell_type": "code",
   "execution_count": 23,
   "metadata": {},
   "outputs": [],
   "source": [
    "void swapHalves(Mat& anImage1, Mat& anImage2)\n",
    "{\n",
    "    // Check if the two images have the same size\n",
    "    if (anImage1.cols != anImage2.cols || anImage1.rows != anImage2.rows)\n",
    "    {\n",
    "        throw runtime_error(\"The two images don't have the same size. Cannot swap halves\");\n",
    "    }\n",
    "    \n",
    "    // Get the half width\n",
    "    int half_width = anImage1.cols / 2;\n",
    "\n",
    "    // Define the left half as a rectangle\n",
    "    // Not sure why CLing is not happy\n",
    "    //Rect rectangle1(0, 0, half_width, aImage1.rows);\n",
    "    Rect rectangle;\n",
    "    rectangle.x = 0;\n",
    "    rectangle.y = 0;\n",
    "    rectangle.width = half_width;\n",
    "    rectangle.height = anImage1.rows;\n",
    "\n",
    "    // Move the left half of aImage1 into aImage2, and\n",
    "    // the left half of aImage2 into aImage1\n",
    "    cv::Mat ROI1 = anImage1(rectangle);\n",
    "    cv::Mat ROI2 = anImage2(rectangle);\n",
    "\n",
    "    Mat temp = ROI1.clone();\n",
    "\n",
    "    ROI2.copyTo(ROI1);\n",
    "    temp.copyTo(ROI2);\n",
    "}"
   ]
  },
  {
   "cell_type": "markdown",
   "metadata": {},
   "source": [
    "For each level, swap the two ha;ves."
   ]
  },
  {
   "cell_type": "code",
   "execution_count": 24,
   "metadata": {},
   "outputs": [],
   "source": [
    "for (size_t i = 0; i < apple_laplacian_pyramid.size(); ++i)\n",
    "{\n",
    "    swapHalves(apple_laplacian_pyramid[i], orange_laplacian_pyramid[i]);\n",
    "}"
   ]
  },
  {
   "cell_type": "code",
   "execution_count": 25,
   "metadata": {},
   "outputs": [],
   "source": [
    "Mat apporange_laplacian_pyramid_vis = displayPyramid(apple_laplacian_pyramid);\n",
    "Mat oranapple_laplacian_pyramid_vis = displayPyramid(orange_laplacian_pyramid);\n",
    "\n",
    "imwrite(\"../apporange_laplacian_pyramid.png\", apporange_laplacian_pyramid_vis);\n",
    "imwrite(\"../oranapple_laplacian_pyramid.png\", oranapple_laplacian_pyramid_vis);"
   ]
  },
  {
   "cell_type": "markdown",
   "metadata": {},
   "source": [
    "![Laplacian pyramid of the apporange with 7 levels](../apporange_laplacian_pyramid.png)\n",
    "![Gaussian pyramid of the oranapple_ with 7 levels](../oranapple_laplacian_pyramid.png)"
   ]
  },
  {
   "cell_type": "markdown",
   "metadata": {},
   "source": [
    "## Synthesis"
   ]
  },
  {
   "cell_type": "code",
   "execution_count": 26,
   "metadata": {},
   "outputs": [],
   "source": [
    "Mat reconstruction1 = reconstruct(apple_laplacian_pyramid, 0);\n",
    "Mat reconstruction2 = reconstruct(orange_laplacian_pyramid, 0);\n",
    "\n",
    "reconstruction1.convertTo(reconstruction1, CV_8UC3);\n",
    "reconstruction2.convertTo(reconstruction2, CV_8UC3);\n",
    "\n",
    "imwrite(\"../apporange-synthesis.png\", reconstruction1);\n",
    "imwrite(\"../oranapple-synthesis.png\", reconstruction2);"
   ]
  },
  {
   "cell_type": "markdown",
   "metadata": {},
   "source": [
    "![](../apporange-synthesis.png)\n",
    "![](../oranapple-synthesis.png)"
   ]
  }
 ],
 "metadata": {
  "kernelspec": {
   "display_name": "C++14",
   "language": "C++14",
   "name": "xcpp14"
  },
  "language_info": {
   "codemirror_mode": "text/x-c++src",
   "file_extension": ".cpp",
   "mimetype": "text/x-c++src",
   "name": "c++",
   "version": "14"
  }
 },
 "nbformat": 4,
 "nbformat_minor": 4
}
