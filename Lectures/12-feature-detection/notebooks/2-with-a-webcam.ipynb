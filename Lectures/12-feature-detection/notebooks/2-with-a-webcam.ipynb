{
 "cells": [
  {
   "cell_type": "markdown",
   "metadata": {},
   "source": [
    "# Keypoint detection, Feature description and matching"
   ]
  },
  {
   "cell_type": "markdown",
   "metadata": {},
   "source": [
    "In this notebook, I demonstrate how to use OpenCV's feature detection, description and matching framework. Here I am trying to run the framework on a video."
   ]
  },
  {
   "cell_type": "markdown",
   "metadata": {},
   "source": [
    "## Compiler parameters"
   ]
  },
  {
   "cell_type": "markdown",
   "metadata": {},
   "source": [
    "Set my Jypyter environment for the use of [OpenCV](https://www.opencv.org/) in a [C++ notebook](https://github.com/jupyter-xeus/xeus-cling). You don't need this line when you write yur own C++ programs. I need it to set my interactive compiler ([Cling](https://root.cern/cling/)). For your own program, use [CMake](https://www.cmake.org/)."
   ]
  },
  {
   "cell_type": "code",
   "execution_count": 1,
   "metadata": {},
   "outputs": [],
   "source": [
    "#include \"../../../includeLibraries.h\""
   ]
  },
  {
   "cell_type": "markdown",
   "metadata": {},
   "source": [
    "## Header inclusion for C++"
   ]
  },
  {
   "cell_type": "code",
   "execution_count": 2,
   "metadata": {},
   "outputs": [],
   "source": [
    "#include <iostream>\n",
    "#include <vector>\n",
    "#include <stdexcept>\n",
    "// #include <sstream>\n",
    "// #include <string>\n",
    "#include <limits>\n",
    "#include <opencv2/opencv.hpp>"
   ]
  },
  {
   "cell_type": "markdown",
   "metadata": {},
   "source": [
    "## Add the namespaces"
   ]
  },
  {
   "cell_type": "code",
   "execution_count": 3,
   "metadata": {},
   "outputs": [],
   "source": [
    "using namespace std;"
   ]
  },
  {
   "cell_type": "code",
   "execution_count": 4,
   "metadata": {},
   "outputs": [],
   "source": [
    "using namespace cv;"
   ]
  },
  {
   "cell_type": "markdown",
   "metadata": {},
   "source": [
    "## Open the webcam"
   ]
  },
  {
   "cell_type": "markdown",
   "metadata": {},
   "source": [
    "We are going to use the [`cv::VideoCapture` class](https://docs.opencv.org/master/d8/dfe/classcv_1_1VideoCapture.html) to grab frames from the webcam."
   ]
  },
  {
   "cell_type": "code",
   "execution_count": 5,
   "metadata": {},
   "outputs": [],
   "source": [
    "// Open the default camera (see the 0 below)\n",
    "VideoCapture webcam(0);"
   ]
  },
  {
   "cell_type": "markdown",
   "metadata": {},
   "source": [
    "### Any error? Is the data loaded?"
   ]
  },
  {
   "cell_type": "code",
   "execution_count": 6,
   "metadata": {},
   "outputs": [],
   "source": [
    "if (!webcam.isOpened())\n",
    "    throw runtime_error(\"OpenCV found no webcam, the program will terminate\");"
   ]
  },
  {
   "cell_type": "markdown",
   "metadata": {},
   "source": [
    "## 1. Grab the first frame"
   ]
  },
  {
   "cell_type": "code",
   "execution_count": 7,
   "metadata": {},
   "outputs": [],
   "source": [
    "Mat reference_image;\n",
    "webcam >> reference_image;\n",
    "\n",
    "Mat reference_image_blurred;\n",
    "medianBlur(reference_image, reference_image_blurred, 5);"
   ]
  },
  {
   "cell_type": "markdown",
   "metadata": {},
   "source": [
    "## 1. Detect\n",
    "\n",
    "Create a feature detector, here a ORB feature detector."
   ]
  },
  {
   "cell_type": "code",
   "execution_count": 8,
   "metadata": {},
   "outputs": [],
   "source": [
    "Ptr<FeatureDetector> detector = ORB::create();"
   ]
  },
  {
   "cell_type": "markdown",
   "metadata": {},
   "source": [
    "Detect keypoints in `reference_image`."
   ]
  },
  {
   "cell_type": "code",
   "execution_count": 9,
   "metadata": {},
   "outputs": [],
   "source": [
    "vector<KeyPoint> keypoints_reference;\n",
    "detector->detect(reference_image_blurred, keypoints_reference);"
   ]
  },
  {
   "cell_type": "markdown",
   "metadata": {},
   "source": [
    "## 2. Describe\n",
    "\n",
    "Create a feature descriptor, here a ORB feature descriptor"
   ]
  },
  {
   "cell_type": "code",
   "execution_count": 10,
   "metadata": {},
   "outputs": [],
   "source": [
    "Ptr<DescriptorExtractor> extractor = ORB::create();"
   ]
  },
  {
   "cell_type": "markdown",
   "metadata": {},
   "source": [
    "Create the feature vector for the keypoints."
   ]
  },
  {
   "cell_type": "code",
   "execution_count": 11,
   "metadata": {},
   "outputs": [],
   "source": [
    "Mat descriptors_reference;\n",
    "extractor->compute(reference_image_blurred, keypoints_reference, descriptors_reference);"
   ]
  },
  {
   "cell_type": "markdown",
   "metadata": {},
   "source": [
    "## 3. Run the event loop\n",
    "\n",
    "Create a function to perform the detection, description and matching"
   ]
  },
  {
   "cell_type": "code",
   "execution_count": 12,
   "metadata": {},
   "outputs": [],
   "source": [
    "Mat matchKeypoints(int aSliderValue, const Mat& aNewTestImage)\n",
    "{\n",
    "    // Blur the image\n",
    "    Mat test_image_blurred;\n",
    "    medianBlur(aNewTestImage, test_image_blurred, 5);\n",
    "    \n",
    "    // Create a feature detector, here a ORB feature detector.\n",
    "    Ptr<FeatureDetector> detector = ORB::create();\n",
    "    \n",
    "    // Detect keypoints in `test_image`.\n",
    "    vector<KeyPoint> keypoints_test;\n",
    "    detector->detect(test_image_blurred, keypoints_test);\n",
    "    \n",
    "    // Create a feature descriptor, here a ORB feature descriptor\n",
    "    Ptr<DescriptorExtractor> extractor = ORB::create();\n",
    "    \n",
    "    // Create the feature vector for the keypoints.\n",
    "    Mat descriptors_test;\n",
    "    extractor->compute(test_image_blurred, keypoints_test, descriptors_test);\n",
    "    \n",
    "    // Match keypoints in `reference_image` and `test_image` by comparing their corresponding feature vectors. \n",
    "    // Here we use a brute-force algorithm and the L2-norm.\n",
    "    BFMatcher matcher(NORM_L2);\n",
    "    vector<DMatch> matches;\n",
    "    matcher.match(descriptors_reference, descriptors_test, matches);\n",
    "        \n",
    "    // Find the min and max distances between keypoints\n",
    "    double max_dist = -numeric_limits<double>::max();\n",
    "    double min_dist = numeric_limits<double>::max();\n",
    "    \n",
    "    for (int i = 0; i < matches.size(); i++ )\n",
    "    {\n",
    "        double dist = matches[i].distance;\n",
    "        if ( dist < min_dist ) min_dist = dist;\n",
    "        if ( dist > max_dist ) max_dist = dist;\n",
    "    }\n",
    "\n",
    "    // Filter the matches (only keep those with a small distance).\n",
    "    vector<DMatch> good_matches;\n",
    "    double threshold_distance = min_dist + (max_dist - min_dist) * aSliderValue / 100.0;\n",
    "\n",
    "    for (int i = 0; i < matches.size(); i++ )\n",
    "    {\n",
    "        if (matches[i].distance < threshold_distance)\n",
    "        {\n",
    "            good_matches.push_back(matches[i]);\n",
    "        }\n",
    "    }\n",
    "    \n",
    "    Mat img_matches;\n",
    "    drawMatches(reference_image, keypoints_reference, aNewTestImage, keypoints_test, good_matches, img_matches);\n",
    "    return img_matches;\n",
    "}"
   ]
  },
  {
   "cell_type": "markdown",
   "metadata": {},
   "source": [
    "Create a callback for the trackbar to control the threshold"
   ]
  },
  {
   "cell_type": "code",
   "execution_count": 13,
   "metadata": {},
   "outputs": [],
   "source": [
    "int slider_value = 50;"
   ]
  },
  {
   "cell_type": "code",
   "execution_count": 14,
   "metadata": {},
   "outputs": [],
   "source": [
    "namedWindow(\"matches\", WINDOW_GUI_EXPANDED); // Create a window\n",
    "createTrackbar(\"Threshold: \", \"matches\", &slider_value, 100);"
   ]
  },
  {
   "cell_type": "markdown",
   "metadata": {},
   "source": [
    "Run the event loop"
   ]
  },
  {
   "cell_type": "code",
   "execution_count": 15,
   "metadata": {},
   "outputs": [],
   "source": [
    "while (waitKey(1) != 27)\n",
    "{\n",
    "    // Get a new frame\n",
    "    Mat test_image;\n",
    "    webcam >> test_image;\n",
    "    \n",
    "    // Match keypoint\n",
    "    Mat img_matches = matchKeypoints(slider_value, test_image);\n",
    "    imshow(\"matches\", img_matches);\n",
    "}\n",
    "\n",
    "destroyAllWindows();"
   ]
  },
  {
   "cell_type": "markdown",
   "metadata": {},
   "source": [
    "![Matches](../output.gif)"
   ]
  }
 ],
 "metadata": {
  "kernelspec": {
   "display_name": "C++17",
   "language": "C++17",
   "name": "xcpp17"
  },
  "language_info": {
   "codemirror_mode": "text/x-c++src",
   "file_extension": ".cpp",
   "mimetype": "text/x-c++src",
   "name": "c++",
   "version": "17"
  }
 },
 "nbformat": 4,
 "nbformat_minor": 4
}
