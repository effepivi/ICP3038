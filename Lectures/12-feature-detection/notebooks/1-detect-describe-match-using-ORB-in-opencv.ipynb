{
 "cells": [
  {
   "cell_type": "markdown",
   "metadata": {},
   "source": [
    "# Keypoint detection, Feature description and matching"
   ]
  },
  {
   "cell_type": "markdown",
   "metadata": {},
   "source": [
    "In this notebook, I demonstrate how to use OpenCV's feature detection, description and matching framework."
   ]
  },
  {
   "cell_type": "markdown",
   "metadata": {},
   "source": [
    "## Compiler parameters"
   ]
  },
  {
   "cell_type": "markdown",
   "metadata": {},
   "source": [
    "Set my Jypyter environment for the use of [OpenCV](https://www.opencv.org/) in a [C++ notebook](https://github.com/jupyter-xeus/xeus-cling). You don't need this line when you write yur own C++ programs. I need it to set my interactive compiler ([Cling](https://root.cern/cling/)). For your own program, use [CMake](https://www.cmake.org/)."
   ]
  },
  {
   "cell_type": "code",
   "execution_count": 26,
   "metadata": {},
   "outputs": [],
   "source": [
    "#include \"../../../includeLibraries.h\""
   ]
  },
  {
   "cell_type": "markdown",
   "metadata": {},
   "source": [
    "## Header inclusion for C++"
   ]
  },
  {
   "cell_type": "code",
   "execution_count": 27,
   "metadata": {},
   "outputs": [],
   "source": [
    "#include <iostream>\n",
    "#include <vector>\n",
    "#include <stdexcept>\n",
    "// #include <sstream>\n",
    "// #include <string>\n",
    "#include <limits>\n",
    "#include <opencv2/opencv.hpp>"
   ]
  },
  {
   "cell_type": "markdown",
   "metadata": {},
   "source": [
    "## Add the namespaces"
   ]
  },
  {
   "cell_type": "code",
   "execution_count": 28,
   "metadata": {},
   "outputs": [],
   "source": [
    "using namespace std;"
   ]
  },
  {
   "cell_type": "code",
   "execution_count": 29,
   "metadata": {},
   "outputs": [],
   "source": [
    "using namespace cv;"
   ]
  },
  {
   "cell_type": "markdown",
   "metadata": {},
   "source": [
    "## Open two images"
   ]
  },
  {
   "cell_type": "markdown",
   "metadata": {},
   "source": [
    "### Left image\n",
    "\n",
    "![Left image](../_IGP8266.JPG)\n",
    "    \n",
    "### Right image\n",
    "\n",
    "![Right image](../_IGP8267.JPG)    "
   ]
  },
  {
   "cell_type": "code",
   "execution_count": 30,
   "metadata": {},
   "outputs": [],
   "source": [
    "Mat img1 = imread(\"../_IGP8266.JPG\", IMREAD_COLOR);\n",
    "Mat img2 = imread(\"../_IGP8267.JPG\", IMREAD_COLOR);"
   ]
  },
  {
   "cell_type": "markdown",
   "metadata": {},
   "source": [
    "### Any error? Is the data loaded?"
   ]
  },
  {
   "cell_type": "code",
   "execution_count": 31,
   "metadata": {},
   "outputs": [],
   "source": [
    "if (img1.empty())\n",
    "{\n",
    "    throw runtime_error(\"img1 is not loaded, the program will terminate\");\n",
    "}\n",
    "\n",
    "if (img2.empty())\n",
    "{\n",
    "    throw runtime_error(\"img2 is not loaded, the program will terminate\");\n",
    "}\n"
   ]
  },
  {
   "cell_type": "markdown",
   "metadata": {},
   "source": [
    "## 1. Detect\n",
    "\n",
    "Create a feature detector, here a ORB feature detector."
   ]
  },
  {
   "cell_type": "code",
   "execution_count": 32,
   "metadata": {},
   "outputs": [],
   "source": [
    "Ptr<FeatureDetector> detector = ORB::create();"
   ]
  },
  {
   "cell_type": "markdown",
   "metadata": {},
   "source": [
    "Detect keypoints in `img1` and `img2`."
   ]
  },
  {
   "cell_type": "code",
   "execution_count": 33,
   "metadata": {},
   "outputs": [],
   "source": [
    "vector<KeyPoint> keypoints1, keypoints2;\n",
    "detector->detect(img1, keypoints1);\n",
    "detector->detect(img2, keypoints2);"
   ]
  },
  {
   "cell_type": "markdown",
   "metadata": {},
   "source": [
    "## 2. Describe\n",
    "\n",
    "Create a feature descriptor, here a ORB feature descriptor"
   ]
  },
  {
   "cell_type": "code",
   "execution_count": 34,
   "metadata": {},
   "outputs": [],
   "source": [
    "Ptr<DescriptorExtractor> extractor = ORB::create();"
   ]
  },
  {
   "cell_type": "markdown",
   "metadata": {},
   "source": [
    "Create the feature vector for the keypoints."
   ]
  },
  {
   "cell_type": "code",
   "execution_count": 35,
   "metadata": {},
   "outputs": [],
   "source": [
    "Mat descriptors1, descriptors2;\n",
    "extractor->compute(img1, keypoints1, descriptors1);\n",
    "extractor->compute(img2, keypoints2, descriptors2);"
   ]
  },
  {
   "cell_type": "markdown",
   "metadata": {},
   "source": [
    "## 3. Match\n",
    "\n",
    "Match keypoints in `img1` and `img2` by comparing their corresponding feature vectors. Here we use a brute-force algorithm and the L2-norm."
   ]
  },
  {
   "cell_type": "code",
   "execution_count": 36,
   "metadata": {},
   "outputs": [],
   "source": [
    "BFMatcher matcher(NORM_L2);\n",
    "vector<DMatch> matches;\n",
    "matcher.match(descriptors1, descriptors2, matches);"
   ]
  },
  {
   "cell_type": "markdown",
   "metadata": {},
   "source": [
    "## 4. Find the good matches\n",
    "\n",
    "Filter the matches (only keep those with a small distance). 1st find the min and max distances between keypoints"
   ]
  },
  {
   "cell_type": "code",
   "execution_count": 37,
   "metadata": {},
   "outputs": [],
   "source": [
    "double max_dist = -numeric_limits<double>::max();\n",
    "double min_dist = numeric_limits<double>::max();\n",
    "\n",
    "for (int i = 0; i < matches.size(); i++ )\n",
    "{\n",
    "    double dist = matches[i].distance;\n",
    "    if( dist < min_dist ) min_dist = dist;\n",
    "    if( dist > max_dist ) max_dist = dist;\n",
    "}"
   ]
  },
  {
   "cell_type": "markdown",
   "metadata": {},
   "source": [
    "Use only \"good\" matches (i.e. whose distance is less than a threshold, e.g. the middle distance)."
   ]
  },
  {
   "cell_type": "code",
   "execution_count": 38,
   "metadata": {},
   "outputs": [],
   "source": [
    "vector<DMatch> good_matches;\n",
    "double mid_distance = min_dist + (max_dist - min_dist) / 2.0;\n",
    "\n",
    "for (int i = 0; i < matches.size(); i++ )\n",
    "{\n",
    "    if (matches[i].distance < mid_distance)\n",
    "    {\n",
    "        good_matches.push_back(matches[i]);\n",
    "    }\n",
    "}"
   ]
  },
  {
   "cell_type": "markdown",
   "metadata": {},
   "source": [
    "## 5. Draw the results"
   ]
  },
  {
   "cell_type": "code",
   "execution_count": 39,
   "metadata": {},
   "outputs": [],
   "source": [
    "Mat img_matches;\n",
    "drawMatches(img1, keypoints1, img2, keypoints2, good_matches, img_matches);\n",
    "imshow(\"matches\", img_matches);\n",
    "waitKey(0);"
   ]
  },
  {
   "cell_type": "markdown",
   "metadata": {},
   "source": [
    "We could control the threshold using a trackbar.\n",
    "\n",
    "![Matches](../match1.png)"
   ]
  },
  {
   "cell_type": "markdown",
   "metadata": {},
   "source": [
    "Create a callback for the trackbar to control the threshold"
   ]
  },
  {
   "cell_type": "code",
   "execution_count": 40,
   "metadata": {},
   "outputs": [],
   "source": [
    "int slider_value = 50;"
   ]
  },
  {
   "cell_type": "code",
   "execution_count": 41,
   "metadata": {},
   "outputs": [],
   "source": [
    "void callback(int, void*)\n",
    "{\n",
    "    vector<DMatch> good_matches;\n",
    "    double threshold_distance = min_dist + (max_dist - min_dist) * slider_value / 100.0;\n",
    "\n",
    "    for (int i = 0; i < matches.size(); i++ )\n",
    "    {\n",
    "        if (matches[i].distance < threshold_distance)\n",
    "        {\n",
    "            good_matches.push_back(matches[i]);\n",
    "        }\n",
    "    }\n",
    "    Mat img_matches;\n",
    "    drawMatches(img1, keypoints1, img2, keypoints2, good_matches, img_matches);\n",
    "    imshow(\"matches\", img_matches);\n",
    "}"
   ]
  },
  {
   "cell_type": "code",
   "execution_count": 42,
   "metadata": {},
   "outputs": [],
   "source": [
    "createTrackbar(\"Threshold: \", \"matches\", &slider_value, 100, callback);\n",
    "imshow(\"matches\", img_matches);\n",
    "waitKey(0);\n",
    "destroyAllWindows();"
   ]
  },
  {
   "cell_type": "markdown",
   "metadata": {},
   "source": [
    "When we increase the threshold there are wrong matches (called false positives).\n",
    "\n",
    "![Matches with false positives](../match2.png)\n",
    "    \n",
    "When we decrease the threshold the false positives disapear as only strong matches remain.\n",
    "\n",
    "![Strong matches](../match3.png)"
   ]
  }
 ],
 "metadata": {
  "kernelspec": {
   "display_name": "C++14",
   "language": "C++14",
   "name": "xcpp14"
  },
  "language_info": {
   "codemirror_mode": "text/x-c++src",
   "file_extension": ".cpp",
   "mimetype": "text/x-c++src",
   "name": "c++",
   "version": "14"
  }
 },
 "nbformat": 4,
 "nbformat_minor": 4
}
