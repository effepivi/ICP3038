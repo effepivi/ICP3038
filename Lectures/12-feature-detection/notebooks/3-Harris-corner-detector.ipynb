{
 "cells": [
  {
   "cell_type": "markdown",
   "metadata": {},
   "source": [
    "# Corner detection"
   ]
  },
  {
   "cell_type": "markdown",
   "metadata": {},
   "source": [
    "In this notebook, I demonstrate how to use OpenCV's features to detect corners."
   ]
  },
  {
   "cell_type": "markdown",
   "metadata": {},
   "source": [
    "## Compiler parameters"
   ]
  },
  {
   "cell_type": "markdown",
   "metadata": {},
   "source": [
    "Set my Jypyter environment for the use of [OpenCV](https://www.opencv.org/) in a [C++ notebook](https://github.com/jupyter-xeus/xeus-cling). You don't need this line when you write yur own C++ programs. I need it to set my interactive compiler ([Cling](https://root.cern/cling/)). For your own program, use [CMake](https://www.cmake.org/)."
   ]
  },
  {
   "cell_type": "code",
   "execution_count": 1,
   "metadata": {},
   "outputs": [],
   "source": [
    "#include \"../../../includeLibraries.h\""
   ]
  },
  {
   "cell_type": "markdown",
   "metadata": {},
   "source": [
    "## Header inclusion for C++"
   ]
  },
  {
   "cell_type": "code",
   "execution_count": 2,
   "metadata": {},
   "outputs": [],
   "source": [
    "#include <iostream>\n",
    "#include <vector>\n",
    "#include <tuple>\n",
    "#include <stdexcept>\n",
    "// #include <sstream>\n",
    "// #include <string>\n",
    "#include <limits>\n",
    "#include <opencv2/opencv.hpp>"
   ]
  },
  {
   "cell_type": "markdown",
   "metadata": {},
   "source": [
    "## Add the namespaces"
   ]
  },
  {
   "cell_type": "code",
   "execution_count": 3,
   "metadata": {},
   "outputs": [],
   "source": [
    "using namespace std;"
   ]
  },
  {
   "cell_type": "code",
   "execution_count": 4,
   "metadata": {},
   "outputs": [],
   "source": [
    "using namespace cv;"
   ]
  },
  {
   "cell_type": "markdown",
   "metadata": {},
   "source": [
    "## Open the webcam"
   ]
  },
  {
   "cell_type": "markdown",
   "metadata": {},
   "source": [
    "We are going to use the [`cv::VideoCapture` class](https://docs.opencv.org/master/d8/dfe/classcv_1_1VideoCapture.html) to grab frames from the webcam."
   ]
  },
  {
   "cell_type": "code",
   "execution_count": 5,
   "metadata": {},
   "outputs": [],
   "source": [
    "// Open the default camera (see the 0 below)\n",
    "VideoCapture webcam(0);"
   ]
  },
  {
   "cell_type": "markdown",
   "metadata": {},
   "source": [
    "### Any error? Is the data loaded?"
   ]
  },
  {
   "cell_type": "code",
   "execution_count": 6,
   "metadata": {},
   "outputs": [],
   "source": [
    "if (!webcam.isOpened())\n",
    "    throw runtime_error(\"OpenCV found no webcam, the program will terminate\");"
   ]
  },
  {
   "cell_type": "markdown",
   "metadata": {},
   "source": [
    "## 3. Run the event loop\n",
    "\n",
    "Create a function to perform the detection, description and matching"
   ]
  },
  {
   "cell_type": "code",
   "execution_count": 7,
   "metadata": {},
   "outputs": [],
   "source": [
    "void detectCorners(int aSliderValue,\n",
    "                  const Mat& aNewTestImage,\n",
    "                  Mat& anImageWithCorners,\n",
    "                  Mat& aCornerDetection,\n",
    "                  int blockSize = 8,\n",
    "                  int apertureSize = 11,\n",
    "                  double k = 0.06)\n",
    "{\n",
    "    // Colour to greyscale\n",
    "    Mat grey_image;\n",
    "    cvtColor(aNewTestImage, grey_image, COLOR_BGR2GRAY);\n",
    "    \n",
    "    // Blur the image\n",
    "    Mat image_blurred;\n",
    "    medianBlur(grey_image, image_blurred, 5);\n",
    "    \n",
    "    // Detecting corners\n",
    "    Mat dst;\n",
    "    cornerHarris( image_blurred, dst, blockSize, apertureSize, k, BORDER_DEFAULT );\n",
    "   \n",
    "    // Normalizing\n",
    "    normalize( dst, aCornerDetection, 0, 255, NORM_MINMAX, CV_8UC1, Mat() );\n",
    "   \n",
    "    // Draw a circle around corners\n",
    "    anImageWithCorners = aNewTestImage;\n",
    "    for( int j = 0; j < aCornerDetection.rows ; j++ )\n",
    "    {\n",
    "        for( int i = 0; i < aCornerDetection.cols; i++ )\n",
    "        {\n",
    "            if( (int) aCornerDetection.at<unsigned char>(j,i) > aSliderValue )\n",
    "            {\n",
    "                circle( anImageWithCorners, Point( i, j ), 1, Scalar( 0, 0, 255 ), FILLED, LINE_8 );\n",
    "            }\n",
    "        }\n",
    "    }\n",
    "}"
   ]
  },
  {
   "cell_type": "markdown",
   "metadata": {},
   "source": [
    "Create a callback for the trackbar to control the threshold"
   ]
  },
  {
   "cell_type": "code",
   "execution_count": 8,
   "metadata": {},
   "outputs": [],
   "source": [
    "int slider_value = 128;"
   ]
  },
  {
   "cell_type": "code",
   "execution_count": 9,
   "metadata": {},
   "outputs": [],
   "source": [
    "namedWindow(\"corners\", WINDOW_GUI_EXPANDED); // Create a window\n",
    "createTrackbar(\"Threshold: \", \"corners\", &slider_value, 255);"
   ]
  },
  {
   "cell_type": "markdown",
   "metadata": {},
   "source": [
    "Run the event loop"
   ]
  },
  {
   "cell_type": "code",
   "execution_count": 10,
   "metadata": {},
   "outputs": [],
   "source": [
    "while (waitKey(1) != 27)\n",
    "{\n",
    "    // Get a new frame\n",
    "    Mat test_image;\n",
    "    webcam >> test_image;\n",
    "    \n",
    "    // Match keypoint\n",
    "    Mat image_with_corners;\n",
    "    Mat detected_corners;\n",
    "    detectCorners(slider_value, test_image, image_with_corners, detected_corners);\n",
    "    \n",
    "    // Combine the two images in one\n",
    "    Mat concat;\n",
    "    cvtColor(detected_corners, detected_corners, COLOR_GRAY2BGR);\n",
    "\n",
    "    hconcat(image_with_corners, detected_corners, concat);\n",
    "    \n",
    "    imshow(\"corners\", concat);\n",
    "}\n",
    "\n",
    "destroyAllWindows();"
   ]
  },
  {
   "cell_type": "markdown",
   "metadata": {},
   "source": [
    "![Corners](../harris.gif)"
   ]
  },
  {
   "cell_type": "markdown",
   "metadata": {},
   "source": [
    "Stop the camera"
   ]
  },
  {
   "cell_type": "code",
   "execution_count": 12,
   "metadata": {},
   "outputs": [],
   "source": [
    "webcam.release();"
   ]
  }
 ],
 "metadata": {
  "kernelspec": {
   "display_name": "C++17",
   "language": "C++17",
   "name": "xcpp17"
  },
  "language_info": {
   "codemirror_mode": "text/x-c++src",
   "file_extension": ".cpp",
   "mimetype": "text/x-c++src",
   "name": "c++",
   "version": "17"
  }
 },
 "nbformat": 4,
 "nbformat_minor": 4
}
