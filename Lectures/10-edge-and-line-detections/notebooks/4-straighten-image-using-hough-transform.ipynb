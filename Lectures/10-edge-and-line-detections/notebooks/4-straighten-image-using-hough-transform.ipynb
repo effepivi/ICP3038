{
 "cells": [
  {
   "cell_type": "markdown",
   "metadata": {},
   "source": [
    "# Straighten an image using the Hough transform"
   ]
  },
  {
   "cell_type": "markdown",
   "metadata": {},
   "source": [
    "We'll write our own Hough transform to compute the Hough transform and use it to straighten a wonky image."
   ]
  },
  {
   "cell_type": "markdown",
   "metadata": {},
   "source": [
    "## Compiler parameters"
   ]
  },
  {
   "cell_type": "markdown",
   "metadata": {},
   "source": [
    "Set my Jypyter environment for the use of OpenCV in a C++ notebook. You don't need this line when you write your own C++ programs. I need it to set my interactive compiler ([Cling](https://root.cern/cling/)). For your own program, use CMake."
   ]
  },
  {
   "cell_type": "code",
   "execution_count": 1,
   "metadata": {},
   "outputs": [],
   "source": [
    "#include \"../../../includeLibraries.h\""
   ]
  },
  {
   "cell_type": "markdown",
   "metadata": {},
   "source": [
    "## Header inclusion for C++"
   ]
  },
  {
   "cell_type": "code",
   "execution_count": 2,
   "metadata": {},
   "outputs": [],
   "source": [
    "#include <iostream>\n",
    "#include <stdexcept>\n",
    "#include <sstream>\n",
    "#include <string>\n",
    "#include <opencv2/opencv.hpp>"
   ]
  },
  {
   "cell_type": "markdown",
   "metadata": {},
   "source": [
    "## Add the namespaces"
   ]
  },
  {
   "cell_type": "code",
   "execution_count": 3,
   "metadata": {},
   "outputs": [],
   "source": [
    "using namespace std;"
   ]
  },
  {
   "cell_type": "code",
   "execution_count": 4,
   "metadata": {},
   "outputs": [],
   "source": [
    "using namespace cv;"
   ]
  },
  {
   "cell_type": "markdown",
   "metadata": {},
   "source": [
    "## Read the image from a file on the disk and return a new matrix"
   ]
  },
  {
   "cell_type": "markdown",
   "metadata": {},
   "source": [
    "![../wonky.png](../wonky.png)"
   ]
  },
  {
   "cell_type": "code",
   "execution_count": 5,
   "metadata": {},
   "outputs": [],
   "source": [
    "Mat image = imread(\"../wonky.png\");"
   ]
  },
  {
   "cell_type": "markdown",
   "metadata": {},
   "source": [
    "## Check for errors"
   ]
  },
  {
   "cell_type": "code",
   "execution_count": 6,
   "metadata": {},
   "outputs": [],
   "source": [
    "// Check for failure\n",
    "if (image.empty()) \n",
    "{\n",
    "    throw runtime_error(\"Could not open or find the image\");\n",
    "}"
   ]
  },
  {
   "cell_type": "markdown",
   "metadata": {},
   "source": [
    "## Convert degrees to gradients"
   ]
  },
  {
   "cell_type": "code",
   "execution_count": 7,
   "metadata": {},
   "outputs": [],
   "source": [
    "double deg2rad(double anAngleInDegrees)\n",
    "{\n",
    "    return anAngleInDegrees * M_PI / 180.0;   \n",
    "}"
   ]
  },
  {
   "cell_type": "markdown",
   "metadata": {},
   "source": [
    "## Apply the Canny edge detector"
   ]
  },
  {
   "cell_type": "code",
   "execution_count": 8,
   "metadata": {},
   "outputs": [],
   "source": [
    "Mat cannyEdgeDetector(const Mat& anInputImage,\n",
    "                   int aCannyThreshold)\n",
    "{\n",
    "    // Find edges using Canny\n",
    "    Mat edge_image;\n",
    "    const int ratio = 3;\n",
    "    const int kernel_size = 3;\n",
    "    \n",
    "    Canny(anInputImage,\n",
    "          edge_image,\n",
    "          aCannyThreshold,\n",
    "          aCannyThreshold * ratio,\n",
    "          kernel_size);\n",
    "    \n",
    "    return edge_image;\n",
    "}"
   ]
  },
  {
   "cell_type": "code",
   "execution_count": 9,
   "metadata": {},
   "outputs": [],
   "source": [
    "Mat blurred_image;\n",
    "blur( image, blurred_image, Size(3,3) );\n",
    "Mat edge = cannyEdgeDetector(blurred_image, 60);\n",
    "\n",
    "namedWindow(\"edge\", WINDOW_GUI_EXPANDED);\n",
    "imshow(\"edge\", edge);\n",
    "\n",
    "namedWindow(\"image\", WINDOW_GUI_EXPANDED);\n",
    "imshow(\"image\", image);\n",
    "\n",
    "waitKey(0); // Wait for any keystroke in the window\n",
    "destroyAllWindows(); // Destroy all the created windows"
   ]
  },
  {
   "cell_type": "markdown",
   "metadata": {},
   "source": [
    "| Original image | canny |\n",
    "|----------------|--------|\n",
    "|![image](../wonky_original.png) |  ![canny](../wonky_canny.png) |"
   ]
  },
  {
   "cell_type": "markdown",
   "metadata": {},
   "source": [
    "## Compute the accumulator"
   ]
  },
  {
   "cell_type": "code",
   "execution_count": 10,
   "metadata": {},
   "outputs": [],
   "source": [
    "Mat houghTransform(const Mat& anInputImage,\n",
    "                   int aCannyThreshold)\n",
    "{\n",
    "    // Blur the input image\n",
    "    Mat blurred_image;\n",
    "    blur( anInputImage, blurred_image, Size(3,3) );\n",
    "\n",
    "    // Find edges using Canny\n",
    "    Mat edge_image = cannyEdgeDetector(blurred_image, aCannyThreshold);\n",
    "\n",
    "    int width  = 180;\n",
    "    double diagonal = sqrt(edge_image.cols * edge_image.cols + edge_image.rows * edge_image.rows);\n",
    "    int height = floor(2.0 * diagonal);\n",
    "    double half_height = height / 2.0;\n",
    "    Mat accumulator(height, width, CV_32F, Scalar(0));\n",
    "\n",
    "    // Process all the pixels of the edge image\n",
    "    for (int j = 0; j < edge_image.rows; ++j)\n",
    "    {\n",
    "        for (int i = 0; i < edge_image.cols; ++i)\n",
    "        {\n",
    "            // The pixel is on an edge\n",
    "            if (edge_image.at<unsigned char>(i, j) > 0)\n",
    "            {\n",
    "                // Process all the angles\n",
    "                for (int theta = 0; theta <= 180; ++theta)\n",
    "                {\n",
    "                    double angle = deg2rad(theta);\n",
    "                    double r = i * cos(angle) + j * sin(angle);\n",
    "\n",
    "                    int v = floor(r + half_height);\n",
    "                    //cout << theta << \" \" << v << \" \" << accumulator.cols << \"x\" << accumulator.rows << endl;\n",
    "                    accumulator.at<float>(v, theta) += 1;\n",
    "                }\n",
    "            }\n",
    "        }\n",
    "    }\n",
    "\n",
    "    return accumulator;\n",
    "}"
   ]
  },
  {
   "cell_type": "code",
   "execution_count": 11,
   "metadata": {},
   "outputs": [],
   "source": [
    "Mat accumulator = houghTransform(image, 60);"
   ]
  },
  {
   "cell_type": "markdown",
   "metadata": {},
   "source": [
    "## Visualise the accumulator\n",
    "\n",
    "Look for dots. Every dot represents a line in the original image. There are for of them"
   ]
  },
  {
   "cell_type": "code",
   "execution_count": 12,
   "metadata": {},
   "outputs": [],
   "source": [
    "Mat vis_accumulator;\n",
    "cv::normalize(accumulator, vis_accumulator, 0, 1, NORM_MINMAX, CV_32FC1);\n",
    "    \n",
    "namedWindow(\"accumulator\", WINDOW_GUI_EXPANDED);\n",
    "imshow(\"accumulator\", vis_accumulator);\n",
    "\n",
    "waitKey(0); // Wait for any keystroke in the window\n",
    "destroyAllWindows(); // Destroy all the created windows"
   ]
  },
  {
   "cell_type": "markdown",
   "metadata": {},
   "source": [
    "![accumulator](../wonky_accumulator.png)"
   ]
  },
  {
   "cell_type": "markdown",
   "metadata": {},
   "source": [
    "## Draw the lines"
   ]
  },
  {
   "cell_type": "code",
   "execution_count": 13,
   "metadata": {},
   "outputs": [],
   "source": [
    "Mat drawLines(const Mat& anImage,\n",
    "              const Mat& anAccumulator,\n",
    "              double aHoughThreshold,\n",
    "              int aLineWidth,\n",
    "              const Scalar& aLineColour)\n",
    "{\n",
    "    // Copy the input image into the output image\n",
    "    Mat output = anImage.clone();\n",
    "\n",
    "    // Process all the pixels of the accumulator image\n",
    "    for (int j = 0; j < anAccumulator.rows; ++j)\n",
    "    {\n",
    "        for (int i = 0; i < anAccumulator.cols; ++i)\n",
    "        {\n",
    "            // The pixel value in the accumulator is greater than the threshold\n",
    "            // Display the corresponding line\n",
    "            if (anAccumulator.at<float>(j, i) >= aHoughThreshold)\n",
    "            {\n",
    "                // The pixel location\n",
    "                Point location(i, j);\n",
    "\n",
    "                // The two corners of the image\n",
    "                Point pt1(               0, 0);\n",
    "                Point pt2(anImage.cols - 1, anImage.rows - 1);\n",
    "\n",
    "                // Get theta in radian\n",
    "                double theta = deg2rad(location.x);\n",
    "\n",
    "                // Get r\n",
    "                double r = location.y;\n",
    "                r -= anAccumulator.rows / 2.0;\n",
    "\n",
    "                // How to retrieve the line from theta and r:\n",
    "                //      x = (r - y * sin(theta)) / cos(theta);\n",
    "                //      y = (r - x * cos(theta)) / sin(theta);\n",
    "\n",
    "                // sin(theta) != 0\n",
    "                if (location.x != 0 && location.x != 180)\n",
    "                {\n",
    "                    pt1.x = (r - pt1.y * cos(theta)) / sin(theta);\n",
    "                    pt2.x = (r - pt2.y * cos(theta)) / sin(theta);\n",
    "                }\n",
    "                // sin(theta) == 0 && cos(theta) != 0\n",
    "                else\n",
    "                {\n",
    "                    pt1.y = (r - pt1.x * sin(theta)) / cos(theta);\n",
    "                    pt2.y = (r - pt2.x * sin(theta)) / cos(theta);\n",
    "                }\n",
    "\n",
    "                // Draw the line\n",
    "                line(output, pt1, pt2, aLineColour, aLineWidth);\n",
    "            }\n",
    "        }\n",
    "    }\n",
    "\n",
    "    return output;\n",
    "}"
   ]
  },
  {
   "cell_type": "code",
   "execution_count": 14,
   "metadata": {},
   "outputs": [],
   "source": [
    "// Get tne min and max in the accumulator\n",
    "double min_value, max_value;\n",
    "cv::minMaxLoc(accumulator, &min_value, &max_value, 0, 0);\n",
    "\n",
    "double hough_threshold = min_value + 0.6 * (max_value - min_value);\n",
    "\n",
    "Mat image_with_lines;\n",
    "image_with_lines = drawLines(image, accumulator, hough_threshold, 4, Scalar(0, 0, 255));"
   ]
  },
  {
   "cell_type": "code",
   "execution_count": 15,
   "metadata": {},
   "outputs": [],
   "source": [
    "namedWindow(\"image\", WINDOW_GUI_EXPANDED);\n",
    "imshow(\"image\", image);\n",
    "\n",
    "namedWindow(\"edge\", WINDOW_GUI_EXPANDED);\n",
    "imshow(\"edge\", edge);\n",
    "\n",
    "namedWindow(\"image_with_lines\", WINDOW_GUI_EXPANDED);\n",
    "imshow(\"image_with_lines\", image_with_lines);\n",
    "\n",
    "waitKey(0); // Wait for any keystroke in the window\n",
    "destroyAllWindows(); // Destroy all the created windows"
   ]
  },
  {
   "cell_type": "markdown",
   "metadata": {},
   "source": [
    "| Original image | canny | lines |\n",
    "|----------------|--------|--------|\n",
    "|![image](../wonky_original.png) |  ![canny](../wonky_canny.png) | ![ines](../wonky_with_lines.png)"
   ]
  },
  {
   "cell_type": "markdown",
   "metadata": {},
   "source": [
    "## Extract the angle from the accumulator"
   ]
  },
  {
   "cell_type": "code",
   "execution_count": 16,
   "metadata": {},
   "outputs": [],
   "source": [
    "double min_value, max_value;\n",
    "cv::Point min_loc, max_loc;\n",
    "cv::minMaxLoc(accumulator, &min_value, &max_value, &min_loc, &max_loc);"
   ]
  },
  {
   "cell_type": "code",
   "execution_count": 17,
   "metadata": {},
   "outputs": [
    {
     "name": "stdout",
     "output_type": "stream",
     "text": [
      "Max value: 418 Location: [9, 1632]\n"
     ]
    }
   ],
   "source": [
    "cout << \"Max value: \" << max_value << \" Location: \" << max_loc << endl;"
   ]
  },
  {
   "cell_type": "markdown",
   "metadata": {},
   "source": [
    "We must convert the position along the horizontal axis into an angle. It's simple. [9, 1632] Tells us that the image is rotated by 9 degrees. To straighten it, we must rotate it by -9 degrees."
   ]
  },
  {
   "cell_type": "code",
   "execution_count": 18,
   "metadata": {},
   "outputs": [],
   "source": [
    "Mat rotate(const Mat& anImage, double angle)\n",
    "{\n",
    "    Mat rotated_image;\n",
    "    \n",
    "    // Point from where to rotate (centre of rotation), here the centre of the image\n",
    "    Point2f pt(anImage.cols / 2.0, anImage.rows / 2.0);              \n",
    "    \n",
    "    // Create a rotation matrix\n",
    "    Mat rotation_matrix = getRotationMatrix2D(pt, angle, 1.0);\n",
    "    \n",
    "    // Apply the transforation to the image\n",
    "    warpAffine(anImage, rotated_image, rotation_matrix, Size(anImage.cols, anImage.rows));  \n",
    "    \n",
    "    return rotated_image;\n",
    "}"
   ]
  },
  {
   "cell_type": "code",
   "execution_count": 19,
   "metadata": {},
   "outputs": [],
   "source": [
    "Mat rotated = rotate(image, -max_loc.x);"
   ]
  },
  {
   "cell_type": "code",
   "execution_count": 20,
   "metadata": {},
   "outputs": [],
   "source": [
    "namedWindow(\"image\", WINDOW_GUI_EXPANDED);\n",
    "imshow(\"image\", image);\n",
    "\n",
    "namedWindow(\"rotated\", WINDOW_GUI_EXPANDED);\n",
    "imshow(\"rotated\", rotated);\n",
    "\n",
    "waitKey(0); // Wait for any keystroke in the window\n",
    "destroyAllWindows(); // Destroy all the created windows"
   ]
  },
  {
   "cell_type": "markdown",
   "metadata": {},
   "source": [
    "| Original image | straighten |\n",
    "|----------------|--------|\n",
    "|![image](../wonky_original.png) | ![straighten](../wonky_straighten.png)"
   ]
  }
 ],
 "metadata": {
  "kernelspec": {
   "display_name": "C++14",
   "language": "C++14",
   "name": "xcpp14"
  },
  "language_info": {
   "codemirror_mode": "text/x-c++src",
   "file_extension": ".cpp",
   "mimetype": "text/x-c++src",
   "name": "c++",
   "version": "14"
  }
 },
 "nbformat": 4,
 "nbformat_minor": 4
}
