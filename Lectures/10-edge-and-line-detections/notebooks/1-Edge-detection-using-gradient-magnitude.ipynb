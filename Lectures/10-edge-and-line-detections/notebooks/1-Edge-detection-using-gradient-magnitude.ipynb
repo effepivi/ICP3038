{
 "cells": [
  {
   "cell_type": "markdown",
   "metadata": {},
   "source": [
    "# Edge detection using the gradient magnitude and threshold segmentation"
   ]
  },
  {
   "cell_type": "markdown",
   "metadata": {},
   "source": [
    "## Compiler parameters"
   ]
  },
  {
   "cell_type": "markdown",
   "metadata": {},
   "source": [
    "Set my Jypyter environment for the use of OpenCV in a C++ notebook. You don't need this line when you write your own C++ programs. I need it to set my interactive compiler ([Cling](https://root.cern/cling/)). For your own program, use CMake."
   ]
  },
  {
   "cell_type": "code",
   "execution_count": 1,
   "metadata": {},
   "outputs": [],
   "source": [
    "#include \"../../../includeLibraries.h\""
   ]
  },
  {
   "cell_type": "markdown",
   "metadata": {},
   "source": [
    "## Header inclusion for C++"
   ]
  },
  {
   "cell_type": "code",
   "execution_count": 2,
   "metadata": {},
   "outputs": [],
   "source": [
    "#include <iostream>\n",
    "#include <stdexcept>\n",
    "#include <sstream>\n",
    "#include <string>\n",
    "#include <opencv2/opencv.hpp>"
   ]
  },
  {
   "cell_type": "markdown",
   "metadata": {},
   "source": [
    "## Add the namespaces"
   ]
  },
  {
   "cell_type": "code",
   "execution_count": 3,
   "metadata": {},
   "outputs": [],
   "source": [
    "using namespace std;"
   ]
  },
  {
   "cell_type": "code",
   "execution_count": 4,
   "metadata": {},
   "outputs": [],
   "source": [
    "using namespace cv;"
   ]
  },
  {
   "cell_type": "markdown",
   "metadata": {},
   "source": [
    "## Read the image from a file on the disk and return a new matrix"
   ]
  },
  {
   "cell_type": "markdown",
   "metadata": {},
   "source": [
    "![../cells_greyscale.png](../cells_greyscale.png)"
   ]
  },
  {
   "cell_type": "code",
   "execution_count": 5,
   "metadata": {},
   "outputs": [],
   "source": [
    "Mat image = imread(\"../cells_greyscale.png\", IMREAD_GRAYSCALE);"
   ]
  },
  {
   "cell_type": "markdown",
   "metadata": {},
   "source": [
    "## Check for errors"
   ]
  },
  {
   "cell_type": "code",
   "execution_count": 6,
   "metadata": {},
   "outputs": [],
   "source": [
    "// Check for failure\n",
    "if (image.empty()) \n",
    "{\n",
    "    throw runtime_error(\"Could not open or find the image\");\n",
    "}"
   ]
  },
  {
   "cell_type": "markdown",
   "metadata": {},
   "source": [
    "## Compute the derivative along the two directions"
   ]
  },
  {
   "cell_type": "markdown",
   "metadata": {},
   "source": [
    "See [https://docs.opencv.org/master/d2/d2c/tutorial_sobel_derivatives.html](https://docs.opencv.org/master/d2/d2c/tutorial_sobel_derivatives.html) or details of the functions."
   ]
  },
  {
   "cell_type": "code",
   "execution_count": 7,
   "metadata": {},
   "outputs": [],
   "source": [
    "Mat grad_x, grad_y;\n",
    "Mat abs_grad_x, abs_grad_y;\n",
    "\n",
    "int ksize = 3; // Use a 3x3 Sobel kernel\n",
    "\n",
    "Sobel(image, grad_x, CV_32F, 1, 0, ksize); // dx = 1, dy = 0\n",
    "Sobel(image, grad_y, CV_32F, 0, 1, ksize); // dx = 0, dy = 1"
   ]
  },
  {
   "cell_type": "markdown",
   "metadata": {},
   "source": [
    "## Show the images"
   ]
  },
  {
   "cell_type": "code",
   "execution_count": 8,
   "metadata": {},
   "outputs": [],
   "source": [
    "namedWindow(\"grad_x\", WINDOW_GUI_EXPANDED);\n",
    "imshow(\"grad_x\", grad_x);\n",
    "\n",
    "namedWindow(\"grad_y\", WINDOW_GUI_EXPANDED);\n",
    "imshow(\"grad_y\", grad_y);\n",
    "\n",
    "namedWindow(\"image\", WINDOW_GUI_EXPANDED);\n",
    "imshow(\"image\", image);\n",
    "\n",
    "waitKey(0); // Wait for any keystroke in the window\n",
    "destroyAllWindows(); // Destroy all the created windows"
   ]
  },
  {
   "cell_type": "markdown",
   "metadata": {},
   "source": [
    "| Original image | gard_x | grad_y |\n",
    "|----------------|--------|--------|\n",
    "|![image](../image.png) | ![grad_x](../grad_x.png) | ![grad_y](../grad_y.png) |\n",
    "\n",
    "Not very good. What's wrong? We must normalise the data first. See the min and max pixel values?"
   ]
  },
  {
   "cell_type": "code",
   "execution_count": 9,
   "metadata": {},
   "outputs": [
    {
     "name": "stdout",
     "output_type": "stream",
     "text": [
      "grad_x, min: -268   max: 257\n",
      "grad_y, min: -278   max: 255\n"
     ]
    }
   ],
   "source": [
    "double min_value, max_value;\n",
    "\n",
    "cv::minMaxLoc(grad_x, &min_value, &max_value);\n",
    "cout << \"grad_x, min: \" << min_value << \"   max: \" << max_value << endl;\n",
    "\n",
    "cv::minMaxLoc(grad_y, &min_value, &max_value);\n",
    "cout << \"grad_y, min: \" << min_value << \"   max: \" << max_value << endl;"
   ]
  },
  {
   "cell_type": "markdown",
   "metadata": {},
   "source": [
    "Within the range 0.0 and 1.0 (because of using CV_32F (float32))? NO! We must normalise the image for the visualisation."
   ]
  },
  {
   "cell_type": "code",
   "execution_count": 10,
   "metadata": {},
   "outputs": [],
   "source": [
    "Mat vis_grad_x;\n",
    "Mat vis_grad_y;\n",
    "\n",
    "cv::normalize(grad_x, vis_grad_x, 0, 255, NORM_MINMAX, CV_8UC1);\n",
    "cv::normalize(grad_y, vis_grad_y, 0, 255, NORM_MINMAX, CV_8UC1);"
   ]
  },
  {
   "cell_type": "code",
   "execution_count": 11,
   "metadata": {},
   "outputs": [],
   "source": [
    "namedWindow(\"grad_x\", WINDOW_GUI_EXPANDED);\n",
    "imshow(\"grad_x\", vis_grad_x);\n",
    "\n",
    "namedWindow(\"grad_y\", WINDOW_GUI_EXPANDED);\n",
    "imshow(\"grad_y\", vis_grad_y);\n",
    "\n",
    "namedWindow(\"image\", WINDOW_GUI_EXPANDED);\n",
    "imshow(\"image\", image);\n",
    "\n",
    "waitKey(0); // Wait for any keystroke in the window\n",
    "destroyAllWindows(); // Destroy all the created windows"
   ]
  },
  {
   "cell_type": "markdown",
   "metadata": {},
   "source": [
    "| Original image | gard_x | grad_y |\n",
    "|----------------|--------|--------|\n",
    "|![image](../image.png) | ![grad_x](../vis_grad_x.png) | ![grad_y](../vis_grad_y.png) |\n",
    "\n",
    "Better? Same data but presented differently"
   ]
  },
  {
   "cell_type": "markdown",
   "metadata": {},
   "source": [
    "## Compute the gradient magnitude"
   ]
  },
  {
   "cell_type": "code",
   "execution_count": 12,
   "metadata": {},
   "outputs": [],
   "source": [
    "Mat abs_grad_x;\n",
    "Mat abs_grad_y;\n",
    "\n",
    "abs_grad_x = abs(grad_x);\n",
    "abs_grad_y = abs(grad_y);"
   ]
  },
  {
   "cell_type": "markdown",
   "metadata": {},
   "source": [
    "### Visualise the result"
   ]
  },
  {
   "cell_type": "code",
   "execution_count": 13,
   "metadata": {},
   "outputs": [],
   "source": [
    "Mat vis_abs_grad_x;\n",
    "Mat vis_abs_grad_y;\n",
    "\n",
    "cv::normalize(abs_grad_x, vis_abs_grad_x, 0, 255, NORM_MINMAX, CV_8UC1);\n",
    "cv::normalize(abs_grad_y, vis_abs_grad_y, 0, 255, NORM_MINMAX, CV_8UC1);"
   ]
  },
  {
   "cell_type": "code",
   "execution_count": 14,
   "metadata": {},
   "outputs": [],
   "source": [
    "namedWindow(\"abs_grad_x\", WINDOW_GUI_EXPANDED);\n",
    "imshow(\"abs_grad_x\", vis_abs_grad_x);\n",
    "\n",
    "namedWindow(\"abs_grad_y\", WINDOW_GUI_EXPANDED);\n",
    "imshow(\"abs_grad_y\", vis_abs_grad_y);\n",
    "\n",
    "namedWindow(\"image\", WINDOW_GUI_EXPANDED);\n",
    "imshow(\"image\", image);\n",
    "\n",
    "waitKey(0); // Wait for any keystroke in the window\n",
    "destroyAllWindows(); // Destroy all the created windows"
   ]
  },
  {
   "cell_type": "markdown",
   "metadata": {},
   "source": [
    "| Original image | abs_grad_x | abs_grad_y |\n",
    "|----------------|--------|--------|\n",
    "|![image](../image.png) | ![grad_x](../vis_abs_grad_x.png) | ![grad_y](../vis_abs_grad_y.png) |"
   ]
  },
  {
   "cell_type": "markdown",
   "metadata": {},
   "source": [
    "### Combine the gradient along the two directions"
   ]
  },
  {
   "cell_type": "code",
   "execution_count": 15,
   "metadata": {},
   "outputs": [],
   "source": [
    "Mat grad;\n",
    "addWeighted(abs_grad_x, 0.5, abs_grad_y, 0.5, 0, grad);"
   ]
  },
  {
   "cell_type": "code",
   "execution_count": 16,
   "metadata": {},
   "outputs": [],
   "source": [
    "Mat vis_grad;\n",
    "\n",
    "cv::normalize(grad, vis_grad, 0, 255, NORM_MINMAX, CV_8UC1);"
   ]
  },
  {
   "cell_type": "code",
   "execution_count": 17,
   "metadata": {},
   "outputs": [],
   "source": [
    "namedWindow(\"grad\", WINDOW_GUI_EXPANDED);\n",
    "imshow(\"grad\", vis_grad);\n",
    "\n",
    "namedWindow(\"image\", WINDOW_GUI_EXPANDED);\n",
    "imshow(\"image\", image);\n",
    "\n",
    "waitKey(0); // Wait for any keystroke in the window\n",
    "destroyAllWindows(); // Destroy all the created windows"
   ]
  },
  {
   "cell_type": "markdown",
   "metadata": {},
   "source": [
    "| Original image | grad |abs_grad_x | abs_grad_y |\n",
    "|----------------|------|--------|--------|\n",
    "|![image](../image.png) | ![grad](../vis_grad.png) | ![grad_x](../vis_abs_grad_x.png) | ![grad_y](../vis_abs_grad_y.png) |"
   ]
  },
  {
   "cell_type": "markdown",
   "metadata": {},
   "source": [
    "## Segmentation using the threshold technique"
   ]
  },
  {
   "cell_type": "markdown",
   "metadata": {},
   "source": [
    "See [https://docs.opencv.org/master/d7/d1b/group__imgproc__misc.html#gae8a4a146d1ca78c626a53577199e9c57](https://docs.opencv.org/master/d7/d1b/group__imgproc__misc.html#gae8a4a146d1ca78c626a53577199e9c57) or details of the functions. \n",
    "\n",
    "See here for the threshold types: [https://docs.opencv.org/master/d7/d1b/group__imgproc__misc.html#gaa9e58d2860d4afa658ef70a9b1115576](https://docs.opencv.org/master/d7/d1b/group__imgproc__misc.html#gaa9e58d2860d4afa658ef70a9b1115576)"
   ]
  },
  {
   "cell_type": "code",
   "execution_count": 18,
   "metadata": {},
   "outputs": [],
   "source": [
    "Mat edge;\n",
    "cv::threshold(vis_grad, edge, 64, 255, THRESH_BINARY);"
   ]
  },
  {
   "cell_type": "code",
   "execution_count": 19,
   "metadata": {},
   "outputs": [],
   "source": [
    "namedWindow(\"grad\", WINDOW_GUI_EXPANDED);\n",
    "imshow(\"grad\", vis_grad);\n",
    "\n",
    "namedWindow(\"edge\", WINDOW_GUI_EXPANDED);\n",
    "imshow(\"edge\", edge);\n",
    "\n",
    "namedWindow(\"image\", WINDOW_GUI_EXPANDED);\n",
    "imshow(\"image\", image);\n",
    "\n",
    "waitKey(0); // Wait for any keystroke in the window\n",
    "destroyAllWindows(); // Destroy all the created windows"
   ]
  },
  {
   "cell_type": "markdown",
   "metadata": {},
   "source": [
    "| Original image | grad | edge |\n",
    "|----------------|--------|--------|\n",
    "|![image](../image.png) | ![grad](../vis_grad.png) | ![edge](../edge.png) |"
   ]
  }
 ],
 "metadata": {
  "kernelspec": {
   "display_name": "C++14",
   "language": "C++14",
   "name": "xcpp14"
  },
  "language_info": {
   "codemirror_mode": "text/x-c++src",
   "file_extension": ".cpp",
   "mimetype": "text/x-c++src",
   "name": "c++",
   "version": "14"
  }
 },
 "nbformat": 4,
 "nbformat_minor": 4
}
