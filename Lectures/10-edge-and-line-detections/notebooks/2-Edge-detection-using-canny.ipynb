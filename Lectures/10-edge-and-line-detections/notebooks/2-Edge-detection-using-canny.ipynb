{
 "cells": [
  {
   "cell_type": "markdown",
   "metadata": {},
   "source": [
    "# Edge detection using the Canny Edge detector"
   ]
  },
  {
   "cell_type": "markdown",
   "metadata": {},
   "source": [
    "The Canny Edge detector was developed by John F. Canny in 1986. It aims to satisfy three main criteria:\n",
    "\n",
    "- Low error rate: Meaning a good detection of only existent edges.\n",
    "- Good localization: The distance between edge pixels detected and real edge pixels have to be minimized.\n",
    "- Minimal response: Only one detector response per edge.\n",
    "\n",
    "See here for OpenCV's tutorial: [https://docs.opencv.org/master/da/d5c/tutorial_canny_detector.html](https://docs.opencv.org/master/da/d5c/tutorial_canny_detector.html)."
   ]
  },
  {
   "cell_type": "markdown",
   "metadata": {},
   "source": [
    "## Compiler parameters"
   ]
  },
  {
   "cell_type": "markdown",
   "metadata": {},
   "source": [
    "Set my Jypyter environment for the use of OpenCV in a C++ notebook. You don't need this line when you write your own C++ programs. I need it to set my interactive compiler ([Cling](https://root.cern/cling/)). For your own program, use CMake."
   ]
  },
  {
   "cell_type": "code",
   "execution_count": 1,
   "metadata": {},
   "outputs": [],
   "source": [
    "#include \"../../../includeLibraries.h\""
   ]
  },
  {
   "cell_type": "markdown",
   "metadata": {},
   "source": [
    "## Header inclusion for C++"
   ]
  },
  {
   "cell_type": "code",
   "execution_count": 2,
   "metadata": {},
   "outputs": [],
   "source": [
    "#include <iostream>\n",
    "#include <stdexcept>\n",
    "#include <sstream>\n",
    "#include <string>\n",
    "#include <opencv2/opencv.hpp>"
   ]
  },
  {
   "cell_type": "markdown",
   "metadata": {},
   "source": [
    "## Add the namespaces"
   ]
  },
  {
   "cell_type": "code",
   "execution_count": 3,
   "metadata": {},
   "outputs": [],
   "source": [
    "using namespace std;"
   ]
  },
  {
   "cell_type": "code",
   "execution_count": 4,
   "metadata": {},
   "outputs": [],
   "source": [
    "using namespace cv;"
   ]
  },
  {
   "cell_type": "markdown",
   "metadata": {},
   "source": [
    "## Read the image from a file on the disk and return a new matrix"
   ]
  },
  {
   "cell_type": "markdown",
   "metadata": {},
   "source": [
    "![../cells_greyscale.png](../cells_greyscale.png)"
   ]
  },
  {
   "cell_type": "code",
   "execution_count": 5,
   "metadata": {},
   "outputs": [],
   "source": [
    "Mat image = imread(\"../cells_greyscale.png\", IMREAD_GRAYSCALE);"
   ]
  },
  {
   "cell_type": "markdown",
   "metadata": {},
   "source": [
    "## Check for errors"
   ]
  },
  {
   "cell_type": "code",
   "execution_count": 6,
   "metadata": {},
   "outputs": [],
   "source": [
    "// Check for failure\n",
    "if (image.empty()) \n",
    "{\n",
    "    throw runtime_error(\"Could not open or find the image\");\n",
    "}"
   ]
  },
  {
   "cell_type": "markdown",
   "metadata": {},
   "source": [
    "## Compute the derivative along the two directions"
   ]
  },
  {
   "cell_type": "markdown",
   "metadata": {},
   "source": [
    "See [https://docs.opencv.org/master/da/d5c/tutorial_canny_detector.html](https://docs.opencv.org/master/da/d5c/tutorial_canny_detector.html) for details on the functions."
   ]
  },
  {
   "cell_type": "code",
   "execution_count": 7,
   "metadata": {},
   "outputs": [],
   "source": [
    "Mat edge;\n",
    "Mat abs_grad_x, abs_grad_y;\n",
    "\n",
    "int low_threshold = 50;\n",
    "int ratio = 3;\n",
    "int kernel_size = 3; // Use a 3x3 Sobel kernel\n",
    "\n",
    "Canny( image, edge, low_threshold, low_threshold * ratio, kernel_size );"
   ]
  },
  {
   "cell_type": "markdown",
   "metadata": {},
   "source": [
    "## Show the images"
   ]
  },
  {
   "cell_type": "code",
   "execution_count": 8,
   "metadata": {},
   "outputs": [],
   "source": [
    "namedWindow(\"edge\", WINDOW_GUI_EXPANDED);\n",
    "imshow(\"edge\", edge);\n",
    "\n",
    "namedWindow(\"image\", WINDOW_GUI_EXPANDED);\n",
    "imshow(\"image\", image);\n",
    "\n",
    "waitKey(0); // Wait for any keystroke in the window\n",
    "destroyAllWindows(); // Destroy all the created windows"
   ]
  },
  {
   "cell_type": "markdown",
   "metadata": {},
   "source": [
    "| Original image | grad+threshold | canny |\n",
    "|----------------|--------|--------|\n",
    "|![image](../image.png) | ![edge](../edge.png) | ![canny](../canny.png) |"
   ]
  },
  {
   "cell_type": "code",
   "execution_count": null,
   "metadata": {},
   "outputs": [],
   "source": []
  }
 ],
 "metadata": {
  "kernelspec": {
   "display_name": "C++14",
   "language": "C++14",
   "name": "xcpp14"
  },
  "language_info": {
   "codemirror_mode": "text/x-c++src",
   "file_extension": ".cpp",
   "mimetype": "text/x-c++src",
   "name": "c++",
   "version": "14"
  }
 },
 "nbformat": 4,
 "nbformat_minor": 4
}
