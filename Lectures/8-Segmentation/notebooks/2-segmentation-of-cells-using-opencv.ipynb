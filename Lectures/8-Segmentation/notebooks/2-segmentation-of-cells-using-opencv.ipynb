{
 "cells": [
  {
   "cell_type": "markdown",
   "metadata": {},
   "source": [
    "# How to use OpenCV to segment the cells"
   ]
  },
  {
   "cell_type": "markdown",
   "metadata": {},
   "source": [
    "## Compiler parameters"
   ]
  },
  {
   "cell_type": "markdown",
   "metadata": {},
   "source": [
    "Set my Jypyter environment for the use of OpenCV in a C++ notebook. You don't need this line when you write yur own C++ programs. I need it to set my interactive compiler ([Cling](https://root.cern/cling/)). For your own program, use CMake."
   ]
  },
  {
   "cell_type": "code",
   "execution_count": 1,
   "metadata": {},
   "outputs": [],
   "source": [
    "#include \"../../../includeLibraries.h\""
   ]
  },
  {
   "cell_type": "markdown",
   "metadata": {},
   "source": [
    "## Header inclusion for C++"
   ]
  },
  {
   "cell_type": "code",
   "execution_count": 2,
   "metadata": {},
   "outputs": [],
   "source": [
    "#include <iostream>\n",
    "\n",
    "#include <opencv2/opencv.hpp>\n",
    "#include <opencv2/imgproc.hpp>"
   ]
  },
  {
   "cell_type": "markdown",
   "metadata": {},
   "source": [
    "## Add the namespaces"
   ]
  },
  {
   "cell_type": "code",
   "execution_count": 3,
   "metadata": {},
   "outputs": [],
   "source": [
    "using namespace std;"
   ]
  },
  {
   "cell_type": "code",
   "execution_count": 4,
   "metadata": {},
   "outputs": [],
   "source": [
    "using namespace cv;"
   ]
  },
  {
   "cell_type": "markdown",
   "metadata": {},
   "source": [
    "## Read the image from a file on the disk and return a new matrix"
   ]
  },
  {
   "cell_type": "markdown",
   "metadata": {},
   "source": [
    "![Input image.](../cells_greyscale.png)"
   ]
  },
  {
   "cell_type": "code",
   "execution_count": 5,
   "metadata": {},
   "outputs": [],
   "source": [
    "Mat image = imread(\"../cells_greyscale.png\", IMREAD_GRAYSCALE);"
   ]
  },
  {
   "cell_type": "markdown",
   "metadata": {},
   "source": [
    "## Check for errors"
   ]
  },
  {
   "cell_type": "code",
   "execution_count": 6,
   "metadata": {},
   "outputs": [],
   "source": [
    "// Check for failure\n",
    "if (image.empty()) \n",
    "{\n",
    "    cerr << \"Could not open or find the image\" << endl;\n",
    "    return -1;\n",
    "}"
   ]
  },
  {
   "cell_type": "markdown",
   "metadata": {},
   "source": [
    "## Compute its histogram"
   ]
  },
  {
   "cell_type": "code",
   "execution_count": 7,
   "metadata": {},
   "outputs": [],
   "source": [
    "Mat histogram;\n",
    "\n",
    "int histogram_size = 255;\n",
    "\n",
    "calcHist(&image, // Pointer on the image\n",
    "         1, // Number of images\n",
    "         0, // Number of channels\n",
    "         Mat(), // Binary mask\n",
    "         histogram, // Output\n",
    "         1, // Number of dimensions\n",
    "         &histogram_size, // Number of bins\n",
    "         0); // Ranges"
   ]
  },
  {
   "cell_type": "markdown",
   "metadata": {},
   "source": [
    "## Display the image in a window"
   ]
  },
  {
   "cell_type": "code",
   "execution_count": 8,
   "metadata": {},
   "outputs": [],
   "source": [
    "namedWindow(\"Cells\", WINDOW_GUI_EXPANDED); // Create a window\n",
    "imshow(\"Cells\", image); // Show our image inside the created window."
   ]
  },
  {
   "cell_type": "markdown",
   "metadata": {},
   "source": [
    "## Plot the histogram"
   ]
  },
  {
   "cell_type": "code",
   "execution_count": 9,
   "metadata": {},
   "outputs": [],
   "source": [
    "Mat histogram_image = Mat::ones(200, 320, CV_8U) * 255;\n",
    "normalize(histogram, histogram, 0, histogram_image.rows, NORM_MINMAX, CV_32F);\n",
    "histogram_image = Scalar::all(255);\n",
    "int binW = cvRound(double(histogram_image.cols) / histogram_size);\n",
    "for( int i = 0; i < histogram_size; i++ )\n",
    "    rectangle(histogram_image,\n",
    "              Point(i*binW, histogram_image.rows),\n",
    "              Point((i+1)*binW, histogram_image.rows - cvRound(histogram.at<float>(i))),\n",
    "              Scalar::all(0), -1, 8, 0 );\n",
    "\n",
    "imshow(\"histogram\", histogram_image);"
   ]
  },
  {
   "cell_type": "code",
   "execution_count": 10,
   "metadata": {},
   "outputs": [],
   "source": [
    "waitKey(0); // Wait for any keystroke in the window\n",
    "destroyWindow(\"Cells\"); // Destroy the created window\n",
    "destroyWindow(\"histogram\"); // Destroy the created window"
   ]
  },
  {
   "cell_type": "markdown",
   "metadata": {},
   "source": [
    "A window will open:\n",
    "\n",
    "![OpenCV window](../opencv-cxx-load-display.png)"
   ]
  },
  {
   "cell_type": "markdown",
   "metadata": {},
   "source": [
    "## Binary threshold"
   ]
  },
  {
   "cell_type": "markdown",
   "metadata": {},
   "source": [
    "A lot of information about the various thresholds technique in OpenCV is available at [https://docs.opencv.org/master/db/d8e/tutorial_threshold.html](https://docs.opencv.org/master/db/d8e/tutorial_threshold.html) on OpenCV's website. We want the background in black, and the cells in white. We use the inverse of the binary threshold then. See `THRESH_BINARY_INV` in [https://docs.opencv.org/master/d7/d1b/group__imgproc__misc.html#gaa9e58d2860d4afa658ef70a9b1115576](https://docs.opencv.org/master/d7/d1b/group__imgproc__misc.html#gaa9e58d2860d4afa658ef70a9b1115576)."
   ]
  },
  {
   "cell_type": "code",
   "execution_count": 11,
   "metadata": {},
   "outputs": [],
   "source": [
    "int threshold_value = 70; // Taken from the histogram\n",
    "int threshold_type = THRESH_BINARY_INV;\n",
    "int const max_value = 255;\n",
    "int const max_type = 4;\n",
    "Mat segmentation;\n",
    "\n",
    "threshold(image,\n",
    "          segmentation,\n",
    "          threshold_value,\n",
    "          max_value,\n",
    "          threshold_type);"
   ]
  },
  {
   "cell_type": "markdown",
   "metadata": {},
   "source": [
    "## Display the result"
   ]
  },
  {
   "cell_type": "code",
   "execution_count": 12,
   "metadata": {},
   "outputs": [],
   "source": [
    "namedWindow(\"Cells\", WINDOW_GUI_EXPANDED); // Create a window\n",
    "imshow(\"Cells\", image); // Show our image inside the created window.\n",
    "\n",
    "namedWindow(\"Segmentation\", WINDOW_GUI_EXPANDED); // Create a window\n",
    "imshow(\"Segmentation\", segmentation); // Show our image inside the created window.\n",
    "\n",
    "waitKey(0); // Wait for any keystroke in the window\n",
    "destroyAllWindows(); // Destroy all the created windows"
   ]
  },
  {
   "cell_type": "markdown",
   "metadata": {},
   "source": [
    "You'll see:\n",
    "\n",
    "![opencv-cxx-threshold1.png](../opencv-cxx-threshold1.png)\n",
    "\n",
    "which is not perfect. Remember mathematical morphology? Opening? Closing? Have a look at [https://docs.opencv.org/master/d3/dbe/tutorial_opening_closing_hats.html](https://docs.opencv.org/master/d3/dbe/tutorial_opening_closing_hats.html). \n",
    "\n",
    "And let's do some cleaning."
   ]
  },
  {
   "cell_type": "markdown",
   "metadata": {},
   "source": [
    "## Cleaning"
   ]
  },
  {
   "cell_type": "code",
   "execution_count": 13,
   "metadata": {},
   "outputs": [],
   "source": [
    "Mat element = getStructuringElement(MORPH_CROSS,\n",
    "                                    Size(5, 5), \n",
    "                                    Point(2, 2));\n",
    "\n",
    "morphologyEx(segmentation, segmentation, MORPH_CLOSE, element);\n",
    "morphologyEx(segmentation, segmentation, MORPH_OPEN, element);"
   ]
  },
  {
   "cell_type": "code",
   "execution_count": 14,
   "metadata": {},
   "outputs": [],
   "source": [
    "namedWindow(\"Cells\", WINDOW_GUI_EXPANDED); // Create a window\n",
    "imshow(\"Cells\", image); // Show our image inside the created window.\n",
    "\n",
    "namedWindow(\"Segmentation\", WINDOW_GUI_EXPANDED); // Create a window\n",
    "imshow(\"Segmentation\", segmentation * 255); // Show our image inside the created window.\n",
    "\n",
    "waitKey(0); // Wait for any keystroke in the window\n",
    "destroyAllWindows(); // Destroy all the created windows"
   ]
  },
  {
   "cell_type": "markdown",
   "metadata": {},
   "source": [
    "You'll see:\n",
    "\n",
    "![opencv-cxx-threshold2.png](../opencv-cxx-threshold2.png)\n",
    "\n",
    "which is much better than the previous one."
   ]
  },
  {
   "cell_type": "markdown",
   "metadata": {},
   "source": [
    "## Apply the mask"
   ]
  },
  {
   "cell_type": "markdown",
   "metadata": {},
   "source": [
    "The threshold provide a binary mask. "
   ]
  },
  {
   "cell_type": "code",
   "execution_count": 15,
   "metadata": {},
   "outputs": [],
   "source": [
    "Mat image_of_cells;\n",
    "bitwise_and(segmentation, image, image_of_cells);"
   ]
  },
  {
   "cell_type": "code",
   "execution_count": 16,
   "metadata": {},
   "outputs": [],
   "source": [
    "namedWindow(\"Cells\", WINDOW_GUI_EXPANDED); // Create a window\n",
    "imshow(\"Cells\", image); // Show our image inside the created window.\n",
    "\n",
    "namedWindow(\"Segmentation\", WINDOW_GUI_EXPANDED); // Create a window\n",
    "imshow(\"Segmentation\", segmentation); // Show our image inside the created window.\n",
    "\n",
    "namedWindow(\"Just the cells\", WINDOW_GUI_EXPANDED); // Create a window\n",
    "imshow(\"Just the cells\", image_of_cells); // Show our image inside the created window.\n",
    "\n",
    "waitKey(0); // Wait for any keystroke in the window\n",
    "destroyAllWindows(); // Destroy all the created windows"
   ]
  },
  {
   "cell_type": "markdown",
   "metadata": {},
   "source": [
    "You'll see:\n",
    "\n",
    "![opencv-cxx-threshold3.png](../opencv-cxx-threshold3.png)\n",
    "\n",
    "The background has been removed."
   ]
  }
 ],
 "metadata": {
  "kernelspec": {
   "display_name": "C++17",
   "language": "C++17",
   "name": "xcpp17"
  },
  "language_info": {
   "codemirror_mode": "text/x-c++src",
   "file_extension": ".cpp",
   "mimetype": "text/x-c++src",
   "name": "c++",
   "version": "17"
  }
 },
 "nbformat": 4,
 "nbformat_minor": 5
}
