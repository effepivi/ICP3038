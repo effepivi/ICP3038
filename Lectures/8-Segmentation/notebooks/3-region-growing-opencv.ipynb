{
 "cells": [
  {
   "cell_type": "markdown",
   "metadata": {},
   "source": [
    "# How to use OpenCV to segment an image with the region growing algorithm"
   ]
  },
  {
   "cell_type": "markdown",
   "metadata": {},
   "source": [
    "## Pseudo code"
   ]
  },
  {
   "cell_type": "markdown",
   "metadata": {},
   "source": [
    "```cpp\n",
    "seed_point // coordinates of the starting point\n",
    "visited_matrix // boolean array/matrix, same size as image\n",
    "               // all the pixels are initialised to false\n",
    "point_list // empty list\n",
    "\n",
    "point_list.enqueue( seed_point ) // Add the seed to the list\n",
    "\n",
    "while ( point_list is not empty )\n",
    "{\n",
    "    this_point = point_list.dequeue() // Get a point from the list\n",
    "    visited_matrix( this_point ) = true // Visit the point\n",
    "\n",
    "    for each neighbour of this_point\n",
    "    {\n",
    "        if not visited_matrix( neighbour ) and neighbour is similar to this_point and neighbour not in point_list\n",
    "        {\n",
    "            point_list.enqueue( neighbour )\n",
    "        }\n",
    "    }\n",
    "}\n",
    "```"
   ]
  },
  {
   "cell_type": "markdown",
   "metadata": {},
   "source": [
    "## Compiler parameters"
   ]
  },
  {
   "cell_type": "markdown",
   "metadata": {},
   "source": [
    "Set my Jypyter environment for the use of OpenCV in a C++ notebook. You don't need this line when you write yur own C++ programs. I need it to set my interactive compiler ([Cling](https://root.cern/cling/)). For your own program, use CMake."
   ]
  },
  {
   "cell_type": "code",
   "execution_count": 1,
   "metadata": {},
   "outputs": [],
   "source": [
    "#include \"../../../includeLibraries.h\""
   ]
  },
  {
   "cell_type": "markdown",
   "metadata": {},
   "source": [
    "## Header inclusion for C++"
   ]
  },
  {
   "cell_type": "code",
   "execution_count": 2,
   "metadata": {},
   "outputs": [],
   "source": [
    "#include <iostream>\n",
    "#include <vector>\n",
    "#include <cmath>\n",
    "#include <opencv2/opencv.hpp>"
   ]
  },
  {
   "cell_type": "markdown",
   "metadata": {},
   "source": [
    "## Add the namespaces"
   ]
  },
  {
   "cell_type": "code",
   "execution_count": 3,
   "metadata": {},
   "outputs": [],
   "source": [
    "using namespace std;"
   ]
  },
  {
   "cell_type": "code",
   "execution_count": 4,
   "metadata": {},
   "outputs": [],
   "source": [
    "using namespace cv;"
   ]
  },
  {
   "cell_type": "markdown",
   "metadata": {},
   "source": [
    "## Read the image from a file on the disk and return a new matrix"
   ]
  },
  {
   "cell_type": "markdown",
   "metadata": {},
   "source": [
    "![CT slice](../CT.png)"
   ]
  },
  {
   "cell_type": "code",
   "execution_count": 5,
   "metadata": {},
   "outputs": [],
   "source": [
    "Mat ct_slice = imread(\"../CT.png\", IMREAD_GRAYSCALE);"
   ]
  },
  {
   "cell_type": "markdown",
   "metadata": {},
   "source": [
    "## Check for errors"
   ]
  },
  {
   "cell_type": "code",
   "execution_count": 6,
   "metadata": {},
   "outputs": [],
   "source": [
    "// Check for failure\n",
    "if (ct_slice.empty()) \n",
    "{\n",
    "    cerr << \"Could not open or find the image\" << endl;\n",
    "    return -1;\n",
    "}"
   ]
  },
  {
   "cell_type": "markdown",
   "metadata": {},
   "source": [
    "## Display the image and pickup seeds"
   ]
  },
  {
   "cell_type": "code",
   "execution_count": 7,
   "metadata": {},
   "outputs": [],
   "source": [
    "vector<pair<int, int>> seed_set; // Stores the seeds"
   ]
  },
  {
   "cell_type": "code",
   "execution_count": 8,
   "metadata": {},
   "outputs": [],
   "source": [
    "void mouseCallback(int event, int x, int y, int flags, void* userdata)\n",
    "{\n",
    "    if  ( event == EVENT_LBUTTONDOWN )\n",
    "    {\n",
    "        seed_set.push_back(pair<int, int>(x, y));\n",
    "        Mat* p_image = static_cast<Mat*>(userdata);\n",
    "        cv::Scalar colour( 0, 0, 255 );\n",
    "        cv::circle( *p_image, Point(x, y), 4, colour, FILLED );\n",
    "        imshow(\"CT slice\", *p_image);\n",
    "    }\n",
    "}"
   ]
  },
  {
   "cell_type": "code",
   "execution_count": 9,
   "metadata": {},
   "outputs": [
    {
     "data": {
      "text/plain": [
       "113"
      ]
     },
     "execution_count": 9,
     "metadata": {},
     "output_type": "execute_result"
    }
   ],
   "source": [
    "Mat colour_ct_slice;\n",
    "cvtColor(ct_slice, colour_ct_slice, COLOR_GRAY2RGB);\n",
    "\n",
    "namedWindow(\"CT slice\", WINDOW_AUTOSIZE); // Create a window\n",
    "imshow(\"CT slice\", colour_ct_slice); // Show our image inside the created window\n",
    "setMouseCallback(\"CT slice\", mouseCallback, &colour_ct_slice); // Register the callback function\n",
    "waitKey(0); // Wait for any keystroke in the window"
   ]
  },
  {
   "cell_type": "markdown",
   "metadata": {},
   "source": [
    "Here we selected 3 seedsto segment the lungs\n",
    "\n",
    "![CT slice and the 3 seeds](../opencv-cxx-region_growing1.png)"
   ]
  },
  {
   "cell_type": "markdown",
   "metadata": {},
   "source": [
    "## Region growing function"
   ]
  },
  {
   "cell_type": "code",
   "execution_count": 10,
   "metadata": {},
   "outputs": [],
   "source": [
    "Mat regionGrowing(const Mat& anImage,\n",
    "                  const vector<pair<int, int>>& aSeedSet,\n",
    "                  unsigned char anInValue = 255,\n",
    "                  float tolerance = 5)\n",
    "{\n",
    "    // boolean array/matrix, same size as image\n",
    "    // all the pixels are initialised to false\n",
    "    Mat visited_matrix = Mat::zeros(Size(anImage.cols, anImage.rows), CV_8UC1);\n",
    "\n",
    "    // List of points to visit\n",
    "    vector<pair<int, int>> point_list = aSeedSet;\n",
    "\n",
    "    while ( ! point_list.empty() )\n",
    "    {\n",
    "        // Get a point from the list\n",
    "        pair<int, int> this_point = point_list.back();\n",
    "        point_list.pop_back();\n",
    "        \n",
    "        int x = this_point.first;\n",
    "        int y = this_point.second;\n",
    "        unsigned char pixel_value = anImage.at<unsigned char>(Point(x,y));\n",
    "                                                                                                                            \n",
    "        // Visit the point\n",
    "        visited_matrix.at<unsigned char>(Point(x, y)) = anInValue;\n",
    "\n",
    "        // for each neighbour of this_point\n",
    "        for (int j = y - 1; j <= y + 1; ++j)\n",
    "        {\n",
    "            // vertical index is valid\n",
    "            if (0 <= j && j < anImage.rows)\n",
    "            {\n",
    "                for (int i = x - 1; i <= x + 1; ++i)\n",
    "                {\n",
    "                    // hozirontal index is valid\n",
    "                    if (0 <= i && i < anImage.cols)\n",
    "                    {\n",
    "                        unsigned char neighbour_value = anImage.at<unsigned char>(Point(i, j));\n",
    "                        unsigned char neighbour_visited = visited_matrix.at<unsigned char>(Point(i, j));\n",
    "                        \n",
    "                        if (!neighbour_visited &&\n",
    "                            fabs(neighbour_value - pixel_value) <= (tolerance / 100.0 * 255.0)) // neighbour is similar to this_point\n",
    "                        {\n",
    "                            point_list.push_back(pair<int, int>(i, j));\n",
    "                        }\n",
    "                    }\n",
    "                }\n",
    "            }\n",
    "        }\n",
    "    }\n",
    "\n",
    "    return visited_matrix;\n",
    "}"
   ]
  },
  {
   "cell_type": "markdown",
   "metadata": {},
   "source": [
    "## Segment the input"
   ]
  },
  {
   "cell_type": "code",
   "execution_count": 11,
   "metadata": {},
   "outputs": [],
   "source": [
    "Mat segmented_image = regionGrowing(ct_slice, seed_set, 255, 2);"
   ]
  },
  {
   "cell_type": "markdown",
   "metadata": {},
   "source": [
    "## Display the result"
   ]
  },
  {
   "cell_type": "code",
   "execution_count": 12,
   "metadata": {},
   "outputs": [],
   "source": [
    "namedWindow(\"Segmentation\", WINDOW_AUTOSIZE); // Create a window\n",
    "imshow(\"Segmentation\", segmented_image); // Show our image inside the created window\n",
    "\n",
    "waitKey(0); // Wait for any keystroke in the window\n",
    "destroyAllWindows(); // Destroy the created windows"
   ]
  },
  {
   "cell_type": "markdown",
   "metadata": {},
   "source": [
    "Here is the result\n",
    "\n",
    "![Segmentation](../opencv-cxx-region_growing2.png)"
   ]
  }
 ],
 "metadata": {
  "kernelspec": {
   "display_name": "C++17",
   "language": "C++17",
   "name": "xcpp17"
  },
  "language_info": {
   "codemirror_mode": "text/x-c++src",
   "file_extension": ".cpp",
   "mimetype": "text/x-c++src",
   "name": "c++",
   "version": "17"
  }
 },
 "nbformat": 4,
 "nbformat_minor": 4
}
