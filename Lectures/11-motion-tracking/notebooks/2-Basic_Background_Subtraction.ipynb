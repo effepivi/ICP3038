{
 "cells": [
  {
   "cell_type": "markdown",
   "metadata": {},
   "source": [
    "## Basic Background Subtraction using [OpenCV](https://www.opencv.org/)"
   ]
  },
  {
   "cell_type": "markdown",
   "metadata": {},
   "source": [
    "## Compiler parameters"
   ]
  },
  {
   "cell_type": "markdown",
   "metadata": {},
   "source": [
    "Set my Jypyter environment for the use of [OpenCV](https://www.opencv.org/) in a [C++ notebook](https://github.com/jupyter-xeus/xeus-cling). You don't need this line when you write yur own C++ programs. I need it to set my interactive compiler ([Cling](https://root.cern/cling/)). For your own program, use [CMake](https://www.cmake.org/)."
   ]
  },
  {
   "cell_type": "code",
   "execution_count": 1,
   "metadata": {},
   "outputs": [],
   "source": [
    "#include \"../../../includeLibraries.h\""
   ]
  },
  {
   "cell_type": "markdown",
   "metadata": {},
   "source": [
    "## Header inclusion for C++"
   ]
  },
  {
   "cell_type": "code",
   "execution_count": 2,
   "metadata": {},
   "outputs": [],
   "source": [
    "#include <iostream>\n",
    "// #include <vector>\n",
    "#include <stdexcept>\n",
    "// #include <sstream>\n",
    "// #include <string>\n",
    "#include <opencv2/opencv.hpp>"
   ]
  },
  {
   "cell_type": "markdown",
   "metadata": {},
   "source": [
    "## Add the namespaces"
   ]
  },
  {
   "cell_type": "code",
   "execution_count": 3,
   "metadata": {},
   "outputs": [],
   "source": [
    "using namespace std;"
   ]
  },
  {
   "cell_type": "code",
   "execution_count": 4,
   "metadata": {},
   "outputs": [],
   "source": [
    "using namespace cv;"
   ]
  },
  {
   "cell_type": "markdown",
   "metadata": {},
   "source": [
    "## Open the webcam"
   ]
  },
  {
   "cell_type": "markdown",
   "metadata": {},
   "source": [
    "We are going to use the [`cv::VideoCapture` class](https://docs.opencv.org/master/d8/dfe/classcv_1_1VideoCapture.html) to grab frames from the webcam."
   ]
  },
  {
   "cell_type": "code",
   "execution_count": 5,
   "metadata": {},
   "outputs": [],
   "source": [
    "// Open the default camera (see the 0 below)\n",
    "VideoCapture webcam(0);\n",
    "\n",
    "// Check VideoCapture documentation.\n",
    "if (!webcam.isOpened())\n",
    "    throw runtime_error(\"OpenCV found no webcam, the program will terminate\");"
   ]
  },
  {
   "cell_type": "markdown",
   "metadata": {},
   "source": [
    "## Display the images from the camera"
   ]
  },
  {
   "cell_type": "markdown",
   "metadata": {},
   "source": [
    "We create a window to display the images from the webcam"
   ]
  },
  {
   "cell_type": "code",
   "execution_count": 6,
   "metadata": {},
   "outputs": [],
   "source": [
    "namedWindow(\"Webcam\", WINDOW_GUI_EXPANDED); // Create a window\n",
    "namedWindow(\"Background\", WINDOW_GUI_EXPANDED); // Create a window\n",
    "namedWindow(\"Subtraction\", WINDOW_GUI_EXPANDED); // Create a window\n",
    "namedWindow(\"Foreground mask\", WINDOW_GUI_EXPANDED); // Create a window\n",
    "namedWindow(\"Foreground\", WINDOW_GUI_EXPANDED); // Create a window"
   ]
  },
  {
   "cell_type": "markdown",
   "metadata": {},
   "source": [
    "We display the images in a loop. We also need the background. We pick up the backbround by pressing the 'b' key on the keyboard."
   ]
  },
  {
   "cell_type": "code",
   "execution_count": 7,
   "metadata": {},
   "outputs": [],
   "source": [
    "Mat background;"
   ]
  },
  {
   "cell_type": "markdown",
   "metadata": {},
   "source": [
    "As we'll create a binary mask, I want to do some cleaning using mathematical morphology"
   ]
  },
  {
   "cell_type": "code",
   "execution_count": 8,
   "metadata": {},
   "outputs": [],
   "source": [
    "Mat element = getStructuringElement(MORPH_CROSS,\n",
    "                        Size(15, 15), \n",
    "                        Point(2, 2));"
   ]
  },
  {
   "cell_type": "markdown",
   "metadata": {},
   "source": [
    "As we'll use a threshold, I'll add a trckbar to control it."
   ]
  },
  {
   "cell_type": "code",
   "execution_count": 9,
   "metadata": {},
   "outputs": [],
   "source": [
    "int threshold_value = 128;\n",
    "createTrackbar( \"Threshold: \", \"Webcam\", &threshold_value, 255, NULL );"
   ]
  },
  {
   "cell_type": "code",
   "execution_count": 10,
   "metadata": {},
   "outputs": [],
   "source": [
    "int key = -1;\n",
    "while (key != 27 && key != 'q')\n",
    "{\n",
    "    // Grab a new frame\n",
    "    Mat frame;\n",
    "    webcam >> frame;\n",
    "    \n",
    "    // Make sure everything went well\n",
    "    if (frame.empty())\n",
    "    {\n",
    "        webcam.release(); // We are now done with the camera, stop it\n",
    "        throw runtime_error(\"OpenCV cannot grab a new frame from the camera, the program will terminate\");\n",
    "    }\n",
    "    \n",
    "    // Display the image\n",
    "    imshow(\"Webcam\", frame);\n",
    "\n",
    "    // This is the background\n",
    "    if (key == 'b')\n",
    "    {\n",
    "        background = frame;\n",
    "        cv::cvtColor(background, background, COLOR_BGR2GRAY);\n",
    "        imshow(\"Background\", background);\n",
    "        background.convertTo(background, CV_32F);\n",
    "    }\n",
    "    // This is not the background\n",
    "    else\n",
    "    {\n",
    "        // The background exists\n",
    "        if (!background.empty())\n",
    "        {\n",
    "            // Convert in greyscale\n",
    "            Mat grey_frame;\n",
    "            cv::cvtColor(frame, grey_frame, COLOR_BGR2GRAY);\n",
    "            grey_frame.convertTo(grey_frame, CV_32F);\n",
    "            \n",
    "            // Compute the foreground in colour\n",
    "            Mat foreground;\n",
    "            foreground = background - grey_frame;\n",
    "            foreground = abs(foreground);\n",
    "            foreground.convertTo(foreground, CV_8U);\n",
    "            imshow(\"Subtraction\", foreground);\n",
    "\n",
    "            // Apply a threshold to generate the foreground mask\n",
    "            Mat foreground_mask;\n",
    "            threshold( foreground, foreground_mask, threshold_value, 255,  THRESH_BINARY);\n",
    "\n",
    "            morphologyEx(foreground_mask, foreground_mask, MORPH_CLOSE, element);\n",
    "            morphologyEx(foreground_mask, foreground_mask, MORPH_OPEN, element);\n",
    "\n",
    "            imshow(\"Foreground mask\", foreground_mask);\n",
    "            //cv::normalize(foreground_mask, foreground_mask, 1, 0, NORM_MINMAX);\n",
    "\n",
    "            // Apply the foreground mask\n",
    "            Mat clean;\n",
    "            frame.copyTo(clean, foreground_mask);\n",
    "            imshow(\"Foreground\", clean);\n",
    "        }\n",
    "    }    \n",
    "    \n",
    "    key = waitKey(1);\n",
    "}"
   ]
  },
  {
   "cell_type": "markdown",
   "metadata": {},
   "source": [
    "We don't need the window, destroy it"
   ]
  },
  {
   "cell_type": "code",
   "execution_count": 11,
   "metadata": {},
   "outputs": [],
   "source": [
    "destroyAllWindows(); // Destroy all the created windows"
   ]
  },
  {
   "cell_type": "markdown",
   "metadata": {},
   "source": [
    "We are now done with the camera, stop it"
   ]
  },
  {
   "cell_type": "code",
   "execution_count": 12,
   "metadata": {},
   "outputs": [],
   "source": [
    "webcam.release();"
   ]
  },
  {
   "cell_type": "code",
   "execution_count": null,
   "metadata": {},
   "outputs": [],
   "source": [
    "![Screenshot](../screenshot1.png)"
   ]
  }
 ],
 "metadata": {
  "kernelspec": {
   "display_name": "C++14",
   "language": "C++14",
   "name": "xcpp14"
  },
  "language_info": {
   "codemirror_mode": "text/x-c++src",
   "file_extension": ".cpp",
   "mimetype": "text/x-c++src",
   "name": "c++",
   "version": "14"
  }
 },
 "nbformat": 4,
 "nbformat_minor": 4
}
