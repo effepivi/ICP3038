{
 "cells": [
  {
   "cell_type": "markdown",
   "metadata": {},
   "source": [
    "## How to use a webcam using [OpenCV](https://www.opencv.org/)"
   ]
  },
  {
   "cell_type": "markdown",
   "metadata": {},
   "source": [
    "## Compiler parameters"
   ]
  },
  {
   "cell_type": "markdown",
   "metadata": {},
   "source": [
    "Set my Jypyter environment for the use of [OpenCV](https://www.opencv.org/) in a [C++ notebook](https://github.com/jupyter-xeus/xeus-cling). You don't need this line when you write yur own C++ programs. I need it to set my interactive compiler ([Cling](https://root.cern/cling/)). For your own program, use [CMake](https://www.cmake.org/)."
   ]
  },
  {
   "cell_type": "code",
   "execution_count": 1,
   "metadata": {},
   "outputs": [],
   "source": [
    "#include \"../../../includeLibraries.h\""
   ]
  },
  {
   "cell_type": "markdown",
   "metadata": {},
   "source": [
    "## Header inclusion for C++"
   ]
  },
  {
   "cell_type": "code",
   "execution_count": 2,
   "metadata": {},
   "outputs": [],
   "source": [
    "#include <iostream>\n",
    "// #include <vector>\n",
    "#include <stdexcept>\n",
    "// #include <sstream>\n",
    "// #include <string>\n",
    "#include <opencv2/opencv.hpp>"
   ]
  },
  {
   "cell_type": "markdown",
   "metadata": {},
   "source": [
    "## Add the namespaces"
   ]
  },
  {
   "cell_type": "code",
   "execution_count": 3,
   "metadata": {},
   "outputs": [],
   "source": [
    "using namespace std;"
   ]
  },
  {
   "cell_type": "code",
   "execution_count": 4,
   "metadata": {},
   "outputs": [],
   "source": [
    "using namespace cv;"
   ]
  },
  {
   "cell_type": "markdown",
   "metadata": {},
   "source": [
    "## Open the webcam"
   ]
  },
  {
   "cell_type": "markdown",
   "metadata": {},
   "source": [
    "We are going to use the [`cv::VideoCapture` class](https://docs.opencv.org/master/d8/dfe/classcv_1_1VideoCapture.html) to grab frames from the webcam."
   ]
  },
  {
   "cell_type": "code",
   "execution_count": 5,
   "metadata": {},
   "outputs": [],
   "source": [
    "// Open the default camera (see the 0 below)\n",
    "VideoCapture webcam(0);\n",
    "\n",
    "// Check VideoCapture documentation.\n",
    "if (!webcam.isOpened())\n",
    "    throw runtime_error(\"OpenCV found no webcam, the program will terminate\");"
   ]
  },
  {
   "cell_type": "markdown",
   "metadata": {},
   "source": [
    "## Display the images from the camera"
   ]
  },
  {
   "cell_type": "markdown",
   "metadata": {},
   "source": [
    "We create a window to display the images from the webcam"
   ]
  },
  {
   "cell_type": "code",
   "execution_count": 6,
   "metadata": {},
   "outputs": [],
   "source": [
    "namedWindow(\"Webcam\", WINDOW_GUI_EXPANDED); // Create a window"
   ]
  },
  {
   "cell_type": "markdown",
   "metadata": {},
   "source": [
    "We display the images in a loop"
   ]
  },
  {
   "cell_type": "code",
   "execution_count": 7,
   "metadata": {},
   "outputs": [],
   "source": [
    "while (waitKey(1) != 27)\n",
    "{\n",
    "    // Grab a new frame\n",
    "    Mat frame;\n",
    "    webcam >> frame;\n",
    "    \n",
    "    // Make sure everything went well\n",
    "    if (frame.empty())\n",
    "    {\n",
    "        webcam.release(); // We are now done with the camera, stop it\n",
    "        throw runtime_error(\"OpenCV cannot grab a new frame from the camera, the program will terminate\");\n",
    "    }\n",
    "        \n",
    "    // Display the image\n",
    "    imshow(\"Webcam\", frame);\n",
    "}"
   ]
  },
  {
   "cell_type": "markdown",
   "metadata": {},
   "source": [
    "![The window](../output.gif)"
   ]
  },
  {
   "cell_type": "markdown",
   "metadata": {},
   "source": [
    "We don't need the window, destroy it"
   ]
  },
  {
   "cell_type": "code",
   "execution_count": 8,
   "metadata": {},
   "outputs": [],
   "source": [
    "destroyAllWindows(); // Destroy all the created windows"
   ]
  },
  {
   "cell_type": "markdown",
   "metadata": {},
   "source": [
    "We are now done with the camera, stop it"
   ]
  },
  {
   "cell_type": "code",
   "execution_count": 9,
   "metadata": {},
   "outputs": [],
   "source": [
    "webcam.release();"
   ]
  },
  {
   "cell_type": "markdown",
   "metadata": {},
   "source": [
    "## Saving a video"
   ]
  },
  {
   "cell_type": "markdown",
   "metadata": {},
   "source": [
    "First we open the webcam"
   ]
  },
  {
   "cell_type": "code",
   "execution_count": 10,
   "metadata": {},
   "outputs": [],
   "source": [
    "// Open the default camera (see the 0 below)\n",
    "VideoCapture webcam(0);\n",
    "\n",
    "// Check VideoCapture documentation.\n",
    "if (!webcam.isOpened())\n",
    "    throw runtime_error(\"OpenCV found no webcam, the program will terminate\");"
   ]
  },
  {
   "cell_type": "markdown",
   "metadata": {},
   "source": [
    "We are going to use the [`cv::VideoWriter` class](https://docs.opencv.org/master/dd/d9e/classcv_1_1VideoWriter.html) to save the frames grab with the webcam."
   ]
  },
  {
   "cell_type": "markdown",
   "metadata": {},
   "source": [
    "We grab a frame to know its size."
   ]
  },
  {
   "cell_type": "code",
   "execution_count": 11,
   "metadata": {},
   "outputs": [],
   "source": [
    "// Grab a new frame\n",
    "Mat frame;\n",
    "webcam >> frame;"
   ]
  },
  {
   "cell_type": "markdown",
   "metadata": {},
   "source": [
    "To create a new instance of [`cv::VideoWriter` class](https://docs.opencv.org/master/dd/d9e/classcv_1_1VideoWriter.html), we must set the name of the output file, the video CODEC to encode the images, the number of frames per second (FPS) and the image size."
   ]
  },
  {
   "cell_type": "markdown",
   "metadata": {},
   "source": [
    "Retrieve the FPS from the webcam"
   ]
  },
  {
   "cell_type": "code",
   "execution_count": 12,
   "metadata": {},
   "outputs": [],
   "source": [
    "int FPS = webcam.get(CAP_PROP_FPS);"
   ]
  },
  {
   "cell_type": "code",
   "execution_count": 13,
   "metadata": {},
   "outputs": [],
   "source": [
    "VideoWriter video(\"../output.avi\", VideoWriter::fourcc('M','J','P','G'), FPS, Size(frame.cols,frame.rows));"
   ]
  },
  {
   "cell_type": "markdown",
   "metadata": {},
   "source": [
    "Run the loop to grab and save the images"
   ]
  },
  {
   "cell_type": "code",
   "execution_count": 14,
   "metadata": {},
   "outputs": [],
   "source": [
    "namedWindow(\"Webcam\", WINDOW_GUI_EXPANDED); // Create a window\n",
    "while (waitKey(1) != 27)\n",
    "{\n",
    "    // Grab a new frame\n",
    "    Mat frame;\n",
    "    webcam >> frame;\n",
    "    \n",
    "    // Make sure everything went well\n",
    "    if (frame.empty())\n",
    "    {\n",
    "        webcam.release(); // We are now done with the camera, stop it\n",
    "        throw runtime_error(\"OpenCV cannot grab a new frame from the camera, the program will terminate\");\n",
    "    }\n",
    "    \n",
    "    // Display the image\n",
    "    imshow(\"Webcam\", frame);\n",
    "    \n",
    "    // Save the frame in the output file\n",
    "    video << frame;\n",
    "}"
   ]
  },
  {
   "cell_type": "code",
   "execution_count": 15,
   "metadata": {},
   "outputs": [],
   "source": [
    "destroyAllWindows(); // Destroy all the created windows\n",
    "webcam.release(); // We are now done with the camera, stop it"
   ]
  },
  {
   "cell_type": "markdown",
   "metadata": {},
   "source": [
    "Play the video [../output.avi](../output.avi)"
   ]
  }
 ],
 "metadata": {
  "kernelspec": {
   "display_name": "C++14",
   "language": "C++14",
   "name": "xcpp14"
  },
  "language_info": {
   "codemirror_mode": "text/x-c++src",
   "file_extension": ".cpp",
   "mimetype": "text/x-c++src",
   "name": "c++",
   "version": "14"
  }
 },
 "nbformat": 4,
 "nbformat_minor": 4
}
