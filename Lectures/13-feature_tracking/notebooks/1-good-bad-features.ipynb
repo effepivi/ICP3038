{
 "cells": [
  {
   "cell_type": "markdown",
   "metadata": {},
   "source": [
    "# Finding good and bad features"
   ]
  },
  {
   "cell_type": "markdown",
   "metadata": {},
   "source": [
    "In this notebook, I demonstrate how to use OpenCV's features to detect corners."
   ]
  },
  {
   "cell_type": "markdown",
   "metadata": {},
   "source": [
    "## Compiler parameters"
   ]
  },
  {
   "cell_type": "markdown",
   "metadata": {},
   "source": [
    "Set my Jypyter environment for the use of [OpenCV](https://www.opencv.org/) in a [C++ notebook](https://github.com/jupyter-xeus/xeus-cling). You don't need this line when you write yur own C++ programs. I need it to set my interactive compiler ([Cling](https://root.cern/cling/)). For your own program, use [CMake](https://www.cmake.org/)."
   ]
  },
  {
   "cell_type": "code",
   "execution_count": 1,
   "metadata": {},
   "outputs": [],
   "source": [
    "#include \"../../../includeLibraries.h\""
   ]
  },
  {
   "cell_type": "markdown",
   "metadata": {},
   "source": [
    "## Header inclusion for C++"
   ]
  },
  {
   "cell_type": "code",
   "execution_count": 2,
   "metadata": {},
   "outputs": [],
   "source": [
    "#include <iostream>\n",
    "#include <cstdlib>\n",
    "#include <vector>\n",
    "#include <tuple>\n",
    "#include <stdexcept>\n",
    "#include <sstream>\n",
    "// #include <string>\n",
    "#include <limits>\n",
    "#include <opencv2/opencv.hpp>\n",
    "#include <opencv2/tracking.hpp> // selectROI is part of tracking API"
   ]
  },
  {
   "cell_type": "markdown",
   "metadata": {},
   "source": [
    "## Add the namespaces"
   ]
  },
  {
   "cell_type": "code",
   "execution_count": 3,
   "metadata": {},
   "outputs": [],
   "source": [
    "using namespace std;"
   ]
  },
  {
   "cell_type": "code",
   "execution_count": 4,
   "metadata": {},
   "outputs": [],
   "source": [
    "using namespace cv;"
   ]
  },
  {
   "cell_type": "markdown",
   "metadata": {},
   "source": [
    "## Create the image\n",
    "\n",
    "I want to create an homogeneous rectangle over an homogenoeus background. Just like this:\n",
    "\n",
    "![Test image 1](../test_image1_noise.png)\n",
    "\n",
    "It's rubbish and that's the point I want to illustrate."
   ]
  },
  {
   "cell_type": "code",
   "execution_count": 5,
   "metadata": {},
   "outputs": [],
   "source": [
    "Mat input_image = imread(\"../test_image1_noise.png\", IMREAD_COLOR);\n",
    "int counter = 1;\n",
    "\n",
    "if (!input_image.data)\n",
    "    throw runtime_error(\"Could not find the image, the program will terminate\");"
   ]
  },
  {
   "cell_type": "markdown",
   "metadata": {},
   "source": [
    "## Select a patch"
   ]
  },
  {
   "cell_type": "markdown",
   "metadata": {},
   "source": [
    "I am going to display the image and use the mouse to select a rectangular patch in the image."
   ]
  },
  {
   "cell_type": "code",
   "execution_count": 6,
   "metadata": {},
   "outputs": [
    {
     "name": "stdout",
     "output_type": "stream",
     "text": [
      "ROI position in x: 106\n",
      "ROI position in y: 25\n",
      "ROI width: 43\n",
      "ROI height: 31\n"
     ]
    }
   ],
   "source": [
    "Rect2d roi_rect = selectROI(input_image);\n",
    "cout << \"ROI position in x: \" << roi_rect.x << endl;\n",
    "cout << \"ROI position in y: \" << roi_rect.y << endl;\n",
    "cout << \"ROI width: \" << roi_rect.width << endl;\n",
    "cout << \"ROI height: \" << roi_rect.height << endl;"
   ]
  },
  {
   "cell_type": "markdown",
   "metadata": {},
   "source": [
    "Display the corresponding patch"
   ]
  },
  {
   "cell_type": "code",
   "execution_count": 7,
   "metadata": {},
   "outputs": [],
   "source": [
    "cv::Mat patch = input_image(roi_rect);\n",
    "imshow(\"patch to detect\", patch);\n",
    "waitKey(1);"
   ]
  },
  {
   "cell_type": "markdown",
   "metadata": {},
   "source": [
    "Write a function to apply the zero-mean, unit-variance normalisation"
   ]
  },
  {
   "cell_type": "markdown",
   "metadata": {},
   "source": [
    "$Img_2(x,y) = \\frac{Img_1(x,y) - \\mathrm{avg}(Img_1)}{\\mathrm{stddev}(Img_1)}$"
   ]
  },
  {
   "cell_type": "code",
   "execution_count": 8,
   "metadata": {},
   "outputs": [],
   "source": [
    "Mat zeroMenUnitVariangeNormalisation(const Mat& anImage)\n",
    "{\n",
    "    Scalar average;\n",
    "    Scalar stddev;\n",
    "\n",
    "    Mat image;\n",
    "    anImage.copyTo(image);\n",
    "    cvtColor(image, image, COLOR_BGR2GRAY);\n",
    "    image.convertTo(image, CV_32F);\n",
    "\n",
    "    meanStdDev(image, average, stddev, cv::Mat());\n",
    "        \n",
    "    return (image - average) / stddev;\n",
    "}"
   ]
  },
  {
   "cell_type": "markdown",
   "metadata": {},
   "source": [
    "The average pixel value of `normalised_patch` is zero, the variance is 1."
   ]
  },
  {
   "cell_type": "code",
   "execution_count": 9,
   "metadata": {},
   "outputs": [],
   "source": [
    "Mat normalised_patch = zeroMenUnitVariangeNormalisation(patch);"
   ]
  },
  {
   "cell_type": "markdown",
   "metadata": {},
   "source": [
    "## Compute the auto-correlation function"
   ]
  },
  {
   "cell_type": "markdown",
   "metadata": {},
   "source": [
    "Create a new image of the right size"
   ]
  },
  {
   "cell_type": "markdown",
   "metadata": {},
   "source": [
    "1. For every pixel location,\n",
    "2. Extract the corresponding region of interest (ROI)\n",
    "3. Transform it using the zero-mean, unit-variance normalisation\n",
    "4. Perform a pixel-wise product between the two normalised patches\n",
    "5. Compute its mean pixel value\n",
    "6. This is the auto-correlation value for that pixel location\n",
    "7. The auto-correlation values are between -1 and 1."
   ]
  },
  {
   "cell_type": "code",
   "execution_count": 10,
   "metadata": {},
   "outputs": [
    {
     "name": "stdout",
     "output_type": "stream",
     "text": [
      "-0.999397 1\n"
     ]
    }
   ],
   "source": [
    "Mat autocorrelation_float(input_image.rows,\n",
    "                    input_image.cols,\n",
    "                    CV_32FC1, \n",
    "                    Scalar(0,0,0));\n",
    "\n",
    "Mat autocorrelation_uchar(input_image.rows,\n",
    "                    input_image.cols,\n",
    "                    CV_8UC3, \n",
    "                    Scalar(128,128,128));\n",
    "\n",
    "\n",
    "// 1. For every pixel location,\n",
    "for (int j = 0; j < autocorrelation_float.rows - roi_rect.height; ++j)\n",
    "{\n",
    "    for (int i = 0; i < autocorrelation_float.cols - roi_rect.width; ++i)\n",
    "    {\n",
    "        // 2. Extract the corresponding region of interest (ROI)\n",
    "        Rect roi(i, j, roi_rect.width, roi_rect.height);\n",
    "        Mat image_roi = input_image(roi);\n",
    "        \n",
    "        // 3. Transform it using the zero-mean, unit-variance normalisation\n",
    "        Mat normalised_image_roi = zeroMenUnitVariangeNormalisation(image_roi);\n",
    "        \n",
    "        // 4. Perform a pixel-wise product between the two normalised patches\n",
    "        // 5. Compute its mean pixel value\n",
    "        Scalar average = mean(normalised_image_roi.mul(normalised_patch));\n",
    "        \n",
    "        // 6. This is the auto-correlation value for that pixel location\n",
    "        int x = i + roi_rect.width / 2;\n",
    "        int y = j + roi_rect.height / 2;\n",
    "        autocorrelation_float.at<float>(Point(x, y)) = average[0];\n",
    "\n",
    "        // Display an animation\n",
    "        int rescaled = floor(255.0 * ((average[0] + 1) / 2.0));\n",
    "        if (rescaled < 0) rescaled = 0;\n",
    "        else if (rescaled > 255) rescaled = 255;\n",
    "        \n",
    "        autocorrelation_uchar.at<Vec3b>(Point(x, y))[0] = rescaled;\n",
    "        autocorrelation_uchar.at<Vec3b>(Point(x, y))[1] = rescaled;\n",
    "        autocorrelation_uchar.at<Vec3b>(Point(x, y))[2] = rescaled;\n",
    "        \n",
    "        if (!(i % 5) && !(j % 5))\n",
    "        {\n",
    "            Mat display_roi;\n",
    "            input_image.copyTo(display_roi);\n",
    "            rectangle(display_roi, Point(i,j), Point(i+roi_rect.width,j+roi_rect.height), Scalar(255, 255, 255), 2, 2, 0);\n",
    "\n",
    "            Mat vis;\n",
    "            hconcat(display_roi,autocorrelation_uchar,vis);\n",
    "            imshow(\"Visualisation\", vis);\n",
    "            waitKey(1);\n",
    "        }\n",
    "    }\n",
    "}\n",
    "\n",
    "// 7. The auto-correlation values are between -1 and 1.\n",
    "double min_value, max_value;\n",
    "minMaxLoc(autocorrelation_float, &min_value, &max_value);\n",
    "cout << min_value << \" \" << max_value << endl;\n",
    "\n",
    "Mat vis;\n",
    "hconcat(input_image, autocorrelation_uchar, vis);\n",
    "imshow(\"Visualisation\", vis);\n",
    "waitKey(1);\n",
    "\n",
    "imwrite(\"../patch.png\", patch);\n",
    "\n",
    "imwrite(\"../autocorrelation.png\", ((autocorrelation_float + 1.0) / 2.0) * 255.0);\n"
   ]
  },
  {
   "cell_type": "markdown",
   "metadata": {},
   "source": [
    "## Very bad patch\n",
    "\n",
    "See Blue rectangle \n",
    "\n",
    "![Patch 1](../ROI_selector_1.png)\n",
    "\n",
    "Corresponding autocorrelation\n",
    "\n",
    "![Corresponding autocorrelation](../autocorrelation_1.png)\n",
    "\n",
    "Any white pixel in the image above correspond to a match. **There are many.**"
   ]
  },
  {
   "cell_type": "markdown",
   "metadata": {},
   "source": [
    "## A better patch: A Corner\n",
    "\n",
    "See Blue rectangle \n",
    "\n",
    "![Patch 2](../ROI_selector_2.png)\n",
    "\n",
    "Corresponding autocorrelation\n",
    "\n",
    "![Corresponding autocorrelation](../autocorrelation_2.png)\n",
    "\n",
    "Any white pixel in the image above correspond to a match. **There is only one.**"
   ]
  }
 ],
 "metadata": {
  "kernelspec": {
   "display_name": "C++17",
   "language": "C++17",
   "name": "xcpp17"
  },
  "language_info": {
   "codemirror_mode": "text/x-c++src",
   "file_extension": ".cpp",
   "mimetype": "text/x-c++src",
   "name": "c++",
   "version": "17"
  }
 },
 "nbformat": 4,
 "nbformat_minor": 4
}
