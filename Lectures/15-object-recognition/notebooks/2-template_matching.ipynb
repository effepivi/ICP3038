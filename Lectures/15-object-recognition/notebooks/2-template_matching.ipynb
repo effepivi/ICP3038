{
 "cells": [
  {
   "cell_type": "markdown",
   "metadata": {},
   "source": [
    "# Finding an object in an image using template matching"
   ]
  },
  {
   "cell_type": "raw",
   "metadata": {},
   "source": [
    "In this notebook, I demonstrate how template maching works and its limitations."
   ]
  },
  {
   "cell_type": "markdown",
   "metadata": {},
   "source": [
    "## Compiler parameters"
   ]
  },
  {
   "cell_type": "markdown",
   "metadata": {},
   "source": [
    "Set my Jypyter environment for the use of [OpenCV](https://www.opencv.org/) in a [C++ notebook](https://github.com/jupyter-xeus/xeus-cling). You don't need this line when you write yur own C++ programs. I need it to set my interactive compiler ([Cling](https://root.cern/cling/)). For your own program, use [CMake](https://www.cmake.org/)."
   ]
  },
  {
   "cell_type": "code",
   "execution_count": 1,
   "metadata": {},
   "outputs": [],
   "source": [
    "#include \"../../../includeLibraries.h\""
   ]
  },
  {
   "cell_type": "markdown",
   "metadata": {},
   "source": [
    "## Header inclusion for C++"
   ]
  },
  {
   "cell_type": "code",
   "execution_count": 2,
   "metadata": {},
   "outputs": [],
   "source": [
    "#include <iostream>\n",
    "#include <cstdlib>\n",
    "#include <vector>\n",
    "#include <tuple>\n",
    "#include <stdexcept>\n",
    "#include <sstream>\n",
    "// #include <string>\n",
    "#include <limits>\n",
    "#include <opencv2/opencv.hpp>\n",
    "#include <opencv2/tracking.hpp> // selectROI is part of tracking API"
   ]
  },
  {
   "cell_type": "markdown",
   "metadata": {},
   "source": [
    "## Add the namespaces"
   ]
  },
  {
   "cell_type": "code",
   "execution_count": 3,
   "metadata": {},
   "outputs": [],
   "source": [
    "using namespace std;"
   ]
  },
  {
   "cell_type": "code",
   "execution_count": 4,
   "metadata": {},
   "outputs": [],
   "source": [
    "using namespace cv;"
   ]
  },
  {
   "cell_type": "markdown",
   "metadata": {},
   "source": [
    "## Open the image\n",
    "\n",
    "![Test image](../example2/img1.JPG)"
   ]
  },
  {
   "cell_type": "code",
   "execution_count": 5,
   "metadata": {},
   "outputs": [],
   "source": [
    "Mat test_image = imread(\"../example2/img1.JPG\", IMREAD_COLOR);\n",
    "\n",
    "if (!test_image.data)\n",
    "    throw runtime_error(\"Could not find the image, the program will terminate\");"
   ]
  },
  {
   "cell_type": "markdown",
   "metadata": {},
   "source": [
    "## Open the template\n",
    "\n",
    "![Template](../example2/template.JPG)"
   ]
  },
  {
   "cell_type": "code",
   "execution_count": 6,
   "metadata": {},
   "outputs": [],
   "source": [
    "Mat template_image = imread(\"../example2/template.JPG\", IMREAD_COLOR);\n",
    "\n",
    "if (!template_image.data)\n",
    "    throw runtime_error(\"Could not find the image, the program will terminate\");"
   ]
  },
  {
   "cell_type": "markdown",
   "metadata": {},
   "source": [
    "Write a function to apply the zero-mean, unit-variance normalisation"
   ]
  },
  {
   "cell_type": "markdown",
   "metadata": {},
   "source": [
    "$Img_2(x,y) = \\frac{Img_1(x,y) - \\mathrm{avg}(Img_1)}{\\mathrm{stddev}(Img_1)}$"
   ]
  },
  {
   "cell_type": "code",
   "execution_count": 7,
   "metadata": {},
   "outputs": [],
   "source": [
    "Mat zeroMeanUnitVarianceNormalisation(const Mat& anImage)\n",
    "{\n",
    "    Scalar average;\n",
    "    Scalar stddev;\n",
    "\n",
    "    Mat image;\n",
    "    anImage.copyTo(image);\n",
    "    cvtColor(image, image, COLOR_RGB2GRAY);\n",
    "    image.convertTo(image, CV_32F);\n",
    "\n",
    "    meanStdDev(image, average, stddev, cv::Mat());\n",
    "        \n",
    "    return (image - average) / stddev;\n",
    "}"
   ]
  },
  {
   "cell_type": "markdown",
   "metadata": {},
   "source": [
    "The average pixel value of `normalised_patch` is zero, the variance is 1."
   ]
  },
  {
   "cell_type": "code",
   "execution_count": 8,
   "metadata": {},
   "outputs": [],
   "source": [
    "Mat normalised_template = zeroMeanUnitVarianceNormalisation(template_image);"
   ]
  },
  {
   "cell_type": "markdown",
   "metadata": {},
   "source": [
    "## Compute the cross-correlation function"
   ]
  },
  {
   "cell_type": "markdown",
   "metadata": {},
   "source": [
    "Create a new image of the right size"
   ]
  },
  {
   "cell_type": "markdown",
   "metadata": {},
   "source": [
    "1. For every pixel location,\n",
    "2. Extract the corresponding region of interest (ROI)\n",
    "3. Transform it using the zero-mean, unit-variance normalisation\n",
    "4. Perform a pixel-wise product between the two normalised patches\n",
    "5. Compute its mean pixel value: It corresponds to the zero-mean normalised cross-correlation (ZNCC)\n",
    "6. This is the auto-correlation value for that pixel location\n",
    "7. The auto-correlation values are between -1 and 1."
   ]
  },
  {
   "cell_type": "code",
   "execution_count": 9,
   "metadata": {},
   "outputs": [
    {
     "name": "stdout",
     "output_type": "stream",
     "text": [
      "-0.483424 0.999373\n"
     ]
    }
   ],
   "source": [
    "Mat autocorrelation_float(test_image.rows,\n",
    "                    test_image.cols,\n",
    "                    CV_32FC1, \n",
    "                    Scalar(0,0,0));\n",
    "\n",
    "Mat autocorrelation_uchar(test_image.rows,\n",
    "                    test_image.cols,\n",
    "                    CV_8UC3, \n",
    "                    Scalar(128,128,128));\n",
    "\n",
    "\n",
    "// 1. For every pixel location,\n",
    "for (int j = 0; j < autocorrelation_float.rows - template_image.rows; ++j)\n",
    "{\n",
    "    for (int i = 0; i < autocorrelation_float.cols - template_image.cols; ++i)\n",
    "    {\n",
    "        // 2. Extract the corresponding region of interest (ROI)\n",
    "        //Rect roi(i, j, template_image.cols, template_image.rows); The kernel is being funny\n",
    "        Rect roi;\n",
    "        roi.x = i;\n",
    "        roi.y = j;\n",
    "        roi.width = template_image.cols;\n",
    "        roi.height = template_image.rows;\n",
    "        \n",
    "        Mat image_roi = test_image(roi);\n",
    "        \n",
    "        // 3. Transform it using the zero-mean, unit-variance normalisation\n",
    "        Mat normalised_image_roi = zeroMeanUnitVarianceNormalisation(image_roi);\n",
    "        \n",
    "        // 4. Perform a pixel-wise product between the two normalised patches\n",
    "        // 5. Compute its mean pixel value\n",
    "        Scalar average = mean(normalised_image_roi.mul(normalised_template));\n",
    "        \n",
    "        // 6. This is the auto-correlation value for that pixel location\n",
    "        int x = i + template_image.cols / 2;\n",
    "        int y = j + template_image.rows / 2;\n",
    "        autocorrelation_float.at<float>(Point(x, y)) = average[0];\n",
    "\n",
    "        // Display an animation\n",
    "        int rescaled = floor(255.0 * ((average[0] + 1) / 2.0));\n",
    "        if (rescaled < 0) rescaled = 0;\n",
    "        else if (rescaled > 255) rescaled = 255;\n",
    "        \n",
    "        Vec3b& colour = autocorrelation_uchar.at<Vec3b>(Point(x, y));\n",
    "        colour.val[0] = rescaled;\n",
    "        colour.val[1] = rescaled;\n",
    "        colour.val[2] = rescaled;\n",
    "        \n",
    "        if (!(i % 15) && !(j % 15))\n",
    "        {\n",
    "            Mat display_roi;\n",
    "            test_image.copyTo(display_roi);\n",
    "            rectangle(display_roi, Point(i,j), Point(i+template_image.cols,j+template_image.rows), Scalar(255, 255, 255), 2, 2, 0);\n",
    "\n",
    "            Mat vis;\n",
    "            hconcat(display_roi,autocorrelation_uchar,vis);\n",
    "            imshow(\"Visualisation\", vis);\n",
    "            waitKey(1);\n",
    "        }\n",
    "    }\n",
    "}\n",
    "\n",
    "// 7. The auto-correlation values are between -1 and 1.\n",
    "double min_value, max_value;\n",
    "minMaxLoc(autocorrelation_float, &min_value, &max_value);\n",
    "cout << min_value << \" \" << max_value << endl;\n",
    "\n",
    "Mat vis;\n",
    "hconcat(test_image, autocorrelation_uchar, vis);\n",
    "imshow(\"Visualisation\", vis);\n",
    "waitKey(1);\n",
    "\n",
    "imwrite(\"../example2/autocorrelation1.png\", ((autocorrelation_float + 1.0) / 2.0) * 255.0);"
   ]
  },
  {
   "cell_type": "markdown",
   "metadata": {},
   "source": [
    "## Cross-correlation\n",
    "\n",
    "![](../example2/autocorrelation1.png)"
   ]
  },
  {
   "cell_type": "markdown",
   "metadata": {},
   "source": [
    "## Apply a threshold"
   ]
  },
  {
   "cell_type": "code",
   "execution_count": 10,
   "metadata": {},
   "outputs": [],
   "source": [
    "Mat binary_mask;\n",
    "threshold(autocorrelation_float,\n",
    "          binary_mask,\n",
    "          0.95,\n",
    "          255,\n",
    "          THRESH_BINARY);\n",
    "binary_mask.convertTo(binary_mask, CV_8UC3);\n",
    "imwrite(\"../example2/binary_mask1.png\", binary_mask);"
   ]
  },
  {
   "cell_type": "markdown",
   "metadata": {},
   "source": [
    "![binary_mask](../example2/binary_mask1.png)"
   ]
  },
  {
   "cell_type": "markdown",
   "metadata": {},
   "source": [
    "## Find every island\n",
    "\n"
   ]
  },
  {
   "cell_type": "code",
   "execution_count": 11,
   "metadata": {},
   "outputs": [
    {
     "name": "stdout",
     "output_type": "stream",
     "text": [
      "Contour 1/2\t [171.733, 369]\n",
      "Contour 2/2\t [171.5, 369]\n"
     ]
    }
   ],
   "source": [
    "vector<vector<Point> > contours;\n",
    "vector<Vec4i> hierarchy;\n",
    "\n",
    "// Find edge using Canny\n",
    "Mat canny_output;\n",
    "Canny( binary_mask, canny_output, 50, 150, 3 );\n",
    "imwrite(\"../example2/canny1.png\", canny_output);\n",
    "\n",
    "// Find contours\n",
    "findContours( canny_output, contours, hierarchy, RETR_TREE, CHAIN_APPROX_SIMPLE, Point(0, 0) );\n",
    "\n",
    "// Get the moments\n",
    "vector<Moments> mu(contours.size() );\n",
    "for( int i = 0; i < contours.size(); i++ )\n",
    "{\n",
    "    mu[i] = moments( contours[i], true );\n",
    "}\n",
    "\n",
    "//  Get the mass centers:\n",
    "vector<Point2f> mc( contours.size() );\n",
    "for( int i = 0; i < contours.size(); i++ )\n",
    "{\n",
    "    mc[i] = Point2f( mu[i].m10 / mu[i].m00 , mu[i].m01 / mu[i].m00 );\n",
    "    \n",
    "    cout << \"Contour \" << i + 1 << \"/\" << contours.size() << \"\\t \" << mc[i] << endl;\n",
    "} "
   ]
  },
  {
   "cell_type": "markdown",
   "metadata": {},
   "source": [
    "![](../example2/canny1.png)"
   ]
  },
  {
   "cell_type": "markdown",
   "metadata": {},
   "source": [
    "## Draw the cells in random colours"
   ]
  },
  {
   "cell_type": "code",
   "execution_count": 12,
   "metadata": {},
   "outputs": [],
   "source": [
    "RNG rng(12345);"
   ]
  },
  {
   "cell_type": "code",
   "execution_count": 13,
   "metadata": {},
   "outputs": [],
   "source": [
    "Mat drawing = test_image.clone();\n",
    "\n",
    "for( size_t i = 0; i< mc.size(); i++ )\n",
    "{\n",
    "    Point pt1;\n",
    "    pt1.x = mc[i].x - template_image.cols / 2;\n",
    "    pt1.y = mc[i].y - template_image.rows / 2;\n",
    "\n",
    "    Point pt2;\n",
    "    pt2.x = mc[i].x + template_image.cols / 2;\n",
    "    pt2.y = mc[i].y + template_image.rows / 2;\n",
    "    Scalar colour = Scalar( rng.uniform(0, 256), rng.uniform(0,256), rng.uniform(0,256) );\n",
    "    \n",
    "    rectangle(drawing, pt1, pt2, colour, 4);\n",
    "}\n",
    "imwrite(\"../example2/drawing1.png\", drawing);\n",
    "imshow( \"Contours\", drawing );\n",
    "waitKey(1);"
   ]
  },
  {
   "cell_type": "markdown",
   "metadata": {},
   "source": [
    "![](../example2/drawing1.png)"
   ]
  },
  {
   "cell_type": "code",
   "execution_count": 14,
   "metadata": {},
   "outputs": [],
   "source": [
    "waitKey(0);\n",
    "destroyAllWindows();"
   ]
  }
 ],
 "metadata": {
  "kernelspec": {
   "display_name": "C++17",
   "language": "C++17",
   "name": "xcpp17"
  },
  "language_info": {
   "codemirror_mode": "text/x-c++src",
   "file_extension": ".cpp",
   "mimetype": "text/x-c++src",
   "name": "c++",
   "version": "17"
  }
 },
 "nbformat": 4,
 "nbformat_minor": 4
}
